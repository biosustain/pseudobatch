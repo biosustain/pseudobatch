{
 "cells": [
  {
   "attachments": {},
   "cell_type": "markdown",
   "metadata": {},
   "source": [
    "# Estimating overall rates and yields from pseudo batch transformed data"
   ]
  },
  {
   "attachments": {},
   "cell_type": "markdown",
   "metadata": {},
   "source": [
    "This tutorial will show how to use the fedbatch data correction package to calculate rates and yields from measurements. We will use simulated data to showcase the workflow. The simulated data here resembles a system where online measurements are available. This could for example to the Satorious AMBR(R) or M2Lab Bio/Robolector cultivation systems."
   ]
  },
  {
   "attachments": {},
   "cell_type": "markdown",
   "metadata": {},
   "source": [
    "## loading fedbatch data"
   ]
  },
  {
   "cell_type": "code",
   "execution_count": 1,
   "metadata": {},
   "outputs": [
    {
     "name": "stderr",
     "output_type": "stream",
     "text": [
      "/Users/s143838/.virtualenvs/pseudobatch-dev/lib/python3.10/site-packages/tqdm/auto.py:21: TqdmWarning: IProgress not found. Please update jupyter and ipywidgets. See https://ipywidgets.readthedocs.io/en/stable/user_install.html\n",
      "  from .autonotebook import tqdm as notebook_tqdm\n"
     ]
    },
    {
     "name": "stdout",
     "output_type": "stream",
     "text": [
      "{'stan_version_major': '2', 'stan_version_minor': '29', 'stan_version_patch': '2', 'STAN_THREADS': 'false', 'STAN_MPI': 'false', 'STAN_OPENCL': 'false', 'STAN_NO_RANGE_CHECKS': 'false', 'STAN_CPP_OPTIMS': 'false'}\n"
     ]
    }
   ],
   "source": [
    "import matplotlib.pyplot as plt\n",
    "import pandas as pd\n",
    "import numpy as np\n",
    "import seaborn as sns\n",
    "from patsy import dmatrices\n",
    "import statsmodels.api as sm\n",
    "\n",
    "from pseudobatch import pseudobatch_transform_pandas\n",
    "from pseudobatch.datasets import load_standard_fedbatch"
   ]
  },
  {
   "attachments": {},
   "cell_type": "markdown",
   "metadata": {},
   "source": [
    "First, we will load the standard fed-batch process dataset and take only the time points where a sample was take"
   ]
  },
  {
   "cell_type": "code",
   "execution_count": 2,
   "metadata": {},
   "outputs": [],
   "source": [
    "fedbatch_df_measurement = load_standard_fedbatch(sampling_points_only=True)"
   ]
  },
  {
   "attachments": {},
   "cell_type": "markdown",
   "metadata": {},
   "source": [
    "Lets start with getting an overview of the data that we have imported by look at a part of the dataframe."
   ]
  },
  {
   "cell_type": "code",
   "execution_count": 3,
   "metadata": {},
   "outputs": [
    {
     "data": {
      "text/html": [
       "<div>\n",
       "<style scoped>\n",
       "    .dataframe tbody tr th:only-of-type {\n",
       "        vertical-align: middle;\n",
       "    }\n",
       "\n",
       "    .dataframe tbody tr th {\n",
       "        vertical-align: top;\n",
       "    }\n",
       "\n",
       "    .dataframe thead th {\n",
       "        text-align: right;\n",
       "    }\n",
       "</style>\n",
       "<table border=\"1\" class=\"dataframe\">\n",
       "  <thead>\n",
       "    <tr style=\"text-align: right;\">\n",
       "      <th></th>\n",
       "      <th>timestamp</th>\n",
       "      <th>sample_volume</th>\n",
       "      <th>c_Biomass</th>\n",
       "      <th>c_Glucose</th>\n",
       "      <th>c_Product</th>\n",
       "      <th>v_Volume</th>\n",
       "      <th>v_Feed_accum</th>\n",
       "    </tr>\n",
       "  </thead>\n",
       "  <tbody>\n",
       "    <tr>\n",
       "      <th>0</th>\n",
       "      <td>10.000000</td>\n",
       "      <td>170.0</td>\n",
       "      <td>1.337852</td>\n",
       "      <td>0.075016</td>\n",
       "      <td>0.694735</td>\n",
       "      <td>1015.906036</td>\n",
       "      <td>15.906036</td>\n",
       "    </tr>\n",
       "    <tr>\n",
       "      <th>1</th>\n",
       "      <td>17.142857</td>\n",
       "      <td>170.0</td>\n",
       "      <td>2.664023</td>\n",
       "      <td>0.075103</td>\n",
       "      <td>1.794378</td>\n",
       "      <td>867.753513</td>\n",
       "      <td>37.753513</td>\n",
       "    </tr>\n",
       "    <tr>\n",
       "      <th>2</th>\n",
       "      <td>24.285714</td>\n",
       "      <td>170.0</td>\n",
       "      <td>5.175767</td>\n",
       "      <td>0.075053</td>\n",
       "      <td>3.877080</td>\n",
       "      <td>733.638872</td>\n",
       "      <td>73.638872</td>\n",
       "    </tr>\n",
       "    <tr>\n",
       "      <th>3</th>\n",
       "      <td>31.428571</td>\n",
       "      <td>170.0</td>\n",
       "      <td>9.612284</td>\n",
       "      <td>0.075015</td>\n",
       "      <td>7.555778</td>\n",
       "      <td>619.956743</td>\n",
       "      <td>129.956743</td>\n",
       "    </tr>\n",
       "    <tr>\n",
       "      <th>4</th>\n",
       "      <td>38.571429</td>\n",
       "      <td>170.0</td>\n",
       "      <td>16.561967</td>\n",
       "      <td>0.075011</td>\n",
       "      <td>13.318358</td>\n",
       "      <td>533.452797</td>\n",
       "      <td>213.452797</td>\n",
       "    </tr>\n",
       "  </tbody>\n",
       "</table>\n",
       "</div>"
      ],
      "text/plain": [
       "   timestamp  sample_volume  c_Biomass  c_Glucose  c_Product     v_Volume   \n",
       "0  10.000000          170.0   1.337852   0.075016   0.694735  1015.906036  \\\n",
       "1  17.142857          170.0   2.664023   0.075103   1.794378   867.753513   \n",
       "2  24.285714          170.0   5.175767   0.075053   3.877080   733.638872   \n",
       "3  31.428571          170.0   9.612284   0.075015   7.555778   619.956743   \n",
       "4  38.571429          170.0  16.561967   0.075011  13.318358   533.452797   \n",
       "\n",
       "   v_Feed_accum  \n",
       "0     15.906036  \n",
       "1     37.753513  \n",
       "2     73.638872  \n",
       "3    129.956743  \n",
       "4    213.452797  "
      ]
     },
     "execution_count": 3,
     "metadata": {},
     "output_type": "execute_result"
    }
   ],
   "source": [
    "(fedbatch_df_measurement\n",
    "    .filter(['timestamp', 'sample_volume', 'c_Biomass', 'c_Glucose', 'c_Product', 'v_Volume', 'v_Feed_accum'])\n",
    "    .head()\n",
    ")"
   ]
  },
  {
   "attachments": {},
   "cell_type": "markdown",
   "metadata": {},
   "source": [
    "This shows some of the columns in the dataframe. \n",
    "- `sample_volume` columns contain the sample volume at the given time point. In this dataset, we have online measurements thus more measurements than samples and therefore at most timepoint the sample volume is 0.\n",
    "- `timestamp` describe the timepoint\n",
    "- `c_Biomass`, `c_Glucose`, and `c_Product` is the online concentration measurements \n",
    "- `v_Volume` is the volume of the bioreactor. **IMPORTANT:** at points where a sample is taken this value represents the volume just **before** the sample was drawn.\n",
    "- `v_Feed_accum` is the accumulated feed added until that timepoint.\n",
    "- `m_Biomass`, `m_Glucose`, `m_Product` is the total mass of that species in the reactor, i.e. volume * concentration\n",
    "\n",
    "The dataframe does contain more columns than those shown, but these simply contain information about the parameters used for simulation. Some of them, e.g. true maximum growth rate, are typically not know in a real experimental setting and some of them are experimental design parameters, e.g. glucose concentration in the feed. For clarity, we will just print them here:"
   ]
  },
  {
   "cell_type": "code",
   "execution_count": 4,
   "metadata": {},
   "outputs": [
    {
     "data": {
      "image/png": "[encoded data removed]",
      "text/plain": [
       "<Figure size 2000x400 with 5 Axes>"
      ]
     },
     "metadata": {},
     "output_type": "display_data"
    }
   ],
   "source": [
    "plot_columns = [\"c_Biomass\", \"c_Glucose\", \"c_Product\", \"v_Volume\", \"v_Feed_accum\"]\n",
    "\n",
    "fig, axes = plt.subplots(nrows = 1, ncols = len(plot_columns), figsize=(20, 4))\n",
    "for ax, column in zip(axes.ravel(), plot_columns):\n",
    "    ax.scatter(fedbatch_df_measurement[\"timestamp\"], fedbatch_df_measurement[column], label=\"Sample measurement\")\n",
    "    ax.title.set_text(column)\n",
    "    ax.legend()\n",
    "fig.supxlabel(\"Feeding time [h]\")\n",
    "fig.tight_layout()"
   ]
  },
  {
   "attachments": {},
   "cell_type": "markdown",
   "metadata": {},
   "source": [
    "In the simulated data, we clearly see the discrete nature of the product, glucose and biomass mass' and the volume of bioreactor. This is due to sample withdrawal of reactor. This \"continuos\" time series would be available for some quantities, such as Biomass, O2, CO2, and volume, in some cultivation systems, e.g. Robolector or AMBR systems. Glucose and product measurements will typically only be available as the much sparser measurement points. The pseudo batch transformation can handle both online measurements and sample measurements."
   ]
  },
  {
   "attachments": {},
   "cell_type": "markdown",
   "metadata": {},
   "source": [
    "## Applying the pseudo batch transformation"
   ]
  },
  {
   "attachments": {},
   "cell_type": "markdown",
   "metadata": {},
   "source": [
    "Now we can transform the data. Here I will use a convenience wrapper function that can be applied directly to a Pandas DataFrame, but under the hood this just loops over a list of columns and calls the `pseudobatch_transform()` on each of them."
   ]
  },
  {
   "cell_type": "code",
   "execution_count": 5,
   "metadata": {},
   "outputs": [],
   "source": [
    "glucose_in_feed = 100\n",
    "\n",
    "fedbatch_df_measurement[[\"c_Biomass_pseudo\", \"c_Glucose_pseudo\", \"c_Product_pseudo\", \"c_CO2_pseudo\"]] = pseudobatch_transform_pandas(\n",
    "    fedbatch_df_measurement,\n",
    "    measured_concentration_colnames=[\"c_Biomass\", \"c_Glucose\", \"c_Product\", \"c_CO2\"],\n",
    "    reactor_volume_colname=\"v_Volume\",\n",
    "    accumulated_feed_colname=\"v_Feed_accum\",\n",
    "    sample_volume_colname=\"sample_volume\",\n",
    "    concentration_in_feed=[0, glucose_in_feed, 0, 0],\n",
    ")"
   ]
  },
  {
   "attachments": {},
   "cell_type": "markdown",
   "metadata": {},
   "source": [
    "## Calculate growth rate"
   ]
  },
  {
   "attachments": {},
   "cell_type": "markdown",
   "metadata": {},
   "source": [
    "Now we are ready to estimate the growth rate. To estimate the growth rate we will use a log-linear model.\n",
    "$$\n",
    "log(C^{\\star}_{Biomass}) = a + \\hat\\mu * t\n",
    "$$\n",
    "where $C^{\\star}_{Biomass}$ is the pseudo batch transformed biomass concentration, and $\\hat\\mu$ is the growth rate estimate. Because we will fit several linear models, we make a small convenience function to simplify the code."
   ]
  },
  {
   "cell_type": "code",
   "execution_count": 6,
   "metadata": {},
   "outputs": [],
   "source": [
    "def fit_ols_model(formula_like: str, data: pd.DataFrame) -> sm.regression.linear_model.RegressionResultsWrapper:\n",
    "    y, X = dmatrices(formula_like, data)\n",
    "    model = sm.OLS(endog=y, exog=X)\n",
    "    res = model.fit()\n",
    "    return res"
   ]
  },
  {
   "attachments": {},
   "cell_type": "markdown",
   "metadata": {},
   "source": [
    "Now we can fit the growth rate for both the pseudo batch transformed and the raw biomass data."
   ]
  },
  {
   "cell_type": "code",
   "execution_count": 7,
   "metadata": {},
   "outputs": [
    {
     "name": "stdout",
     "output_type": "stream",
     "text": [
      "Fitted growth rate from pseudo batch transformed biomass: 0.10000027170275563\n",
      "Fitted growth rate from raw biomass: 0.05468160932419806\n",
      "True simulated growth rate 0.1000107311536732\n"
     ]
    }
   ],
   "source": [
    "# fitting a linear model to the pseudo batch transformed biomass\n",
    "res_mu_hat_pseudo = fit_ols_model(\"np.log(c_Biomass_pseudo) ~ timestamp\", fedbatch_df_measurement)\n",
    "\n",
    "# fitting a linear model to the raw biomass\n",
    "res_mu_hat_raw = fit_ols_model(\"np.log(m_Biomass) ~ timestamp\", fedbatch_df_measurement)\n",
    "\n",
    "# save the growth rate estimates\n",
    "mu_hat_pseudo = res_mu_hat_pseudo.params[1]\n",
    "mu_hat_raw = res_mu_hat_raw.params[1]\n",
    "\n",
    "print(\"Fitted growth rate from pseudo batch transformed biomass: \" + str(mu_hat_pseudo))\n",
    "print(\"Fitted growth rate from raw biomass: \" + str(mu_hat_raw))\n",
    "print(\"True simulated growth rate \" + str(fedbatch_df_measurement[\"mu_true\"].iloc[-1]))"
   ]
  },
  {
   "attachments": {},
   "cell_type": "markdown",
   "metadata": {},
   "source": [
    "We see that the growth rate fitted to the pseudo batch data is very close to the true growth rate. The small difference originates from the fact that the growth rate in the simulation is not truly constant, but changes slightly due to substrate concentration changing slightly. On the other hand the growth rate estimate from the raw measurements in very wrong."
   ]
  },
  {
   "attachments": {},
   "cell_type": "markdown",
   "metadata": {},
   "source": [
    "## Estimating biomass yield coefficients\n",
    "The biomass yield coefficients can also be estimated from the pseudo batch transformed data. Here we will fit a normal linear model to obtain a single overall yield estimate for each species.\n",
    "$$\n",
    "C^{\\star}_{Species} = a + \\hat Y_{xspecies} * C^{\\star}_{Biomass}\n",
    "$$\n",
    "\n",
    "Where $C^{\\star}_{Species}$ is the pseudo concetration of a species and the $\\hat Y_{xspecies}$ is the biomass yield coefficient (in units $\\frac{g_{Species}}{g_{Biomass}}$)."
   ]
  },
  {
   "attachments": {},
   "cell_type": "markdown",
   "metadata": {},
   "source": [
    "We will start by estimating the substrate biomass yield coefficient. Also we will use the convention that yield coefficients are strictly positive."
   ]
  },
  {
   "cell_type": "code",
   "execution_count": 8,
   "metadata": {},
   "outputs": [
    {
     "name": "stdout",
     "output_type": "stream",
     "text": [
      "Fitted Yxs from pseudo batch transformed data: 1.85\n",
      "True Yxs: 1.85\n"
     ]
    }
   ],
   "source": [
    "# res_yxs_noncorrected = fit_ols_model(formula_like = \"m_Glucose_consumed ~ m_Biomass\", data= fedbatch_df_measurement)\n",
    "res_yxs_corrected = fit_ols_model(formula_like = \"c_Glucose_pseudo ~ c_Biomass_pseudo\", data= fedbatch_df_measurement)\n",
    "\n",
    "# yxs_noncorrected = res_yxs_noncorrected.params[1]\n",
    "yxs_corrected = np.abs(res_yxs_corrected.params[1])\n",
    "\n",
    "# print(f\"Fitted Yxs from raw data: {yxs_noncorrected.round(5)}\")\n",
    "print(f\"Fitted Yxs from pseudo batch transformed data: {yxs_corrected.round(5)}\")\n",
    "print(f\"True Yxs: {fedbatch_df_measurement.Yxs.iloc[0].round(5)}\")"
   ]
  },
  {
   "attachments": {},
   "cell_type": "markdown",
   "metadata": {},
   "source": [
    "To estimate the biomass yield of a substrate using the raw data we first need to calculate the consumed substrate (notice that this was NOT required using the pseudo batch transformed data). For the sake brevity we will skip this calculation in the tutorial to see how it can be done please refer to [this notebook](../../../article/notebooks/2.0-vikhes-investigate-test-data-set.ipynb). "
   ]
  },
  {
   "attachments": {},
   "cell_type": "markdown",
   "metadata": {},
   "source": [
    "Now let's move on the product biomass yield coefficient."
   ]
  },
  {
   "cell_type": "code",
   "execution_count": 9,
   "metadata": {},
   "outputs": [
    {
     "name": "stdout",
     "output_type": "stream",
     "text": [
      "Fitted Yxp from raw data: 0.83926\n",
      "Fitted Yxp from pseudo batch transformed data: 0.82151\n",
      "True Yxp: 0.82151\n"
     ]
    }
   ],
   "source": [
    "res_yxp_noncorrected = fit_ols_model(formula_like = \"m_Product ~ m_Biomass\", data= fedbatch_df_measurement)\n",
    "res_yxp_corrected = fit_ols_model(formula_like = \"c_Product_pseudo ~ c_Biomass_pseudo\", data= fedbatch_df_measurement)\n",
    "\n",
    "yxp_noncorrected = res_yxp_noncorrected.params[1]\n",
    "yxp_corrected = res_yxp_corrected.params[1]\n",
    "\n",
    "print(f\"Fitted Yxp from raw data: {yxp_noncorrected.round(5)}\")\n",
    "print(f\"Fitted Yxp from pseudo batch transformed data: {yxp_corrected.round(5)}\")\n",
    "print(f\"True Yxp: {fedbatch_df_measurement.Yxp.iloc[0].round(5)}\")"
   ]
  },
  {
   "attachments": {},
   "cell_type": "markdown",
   "metadata": {},
   "source": [
    "Again the estimate based on the pseudo batch transformed data is more accurate that the estimate based on the raw data. In this case the difference the improvement of the estimate with the pseudo batch data is not as significant as for the growth rate, never the less it is still more accurate."
   ]
  },
  {
   "attachments": {},
   "cell_type": "markdown",
   "metadata": {},
   "source": [
    "## Overall specific uptake/secretion rates\n",
    "Once we have calculated the yields and the growth rate it is easy to calculate the remaining uptake/secretion rates ($r_{species}$) assuming that the consumption and production is growth coupled.\n",
    "\n",
    "$$\n",
    "r_{species} = \\mu * Y_{xspecies}\n",
    "$$"
   ]
  },
  {
   "attachments": {},
   "cell_type": "markdown",
   "metadata": {},
   "source": [
    "Lets start with the specific production rate"
   ]
  },
  {
   "cell_type": "code",
   "execution_count": 10,
   "metadata": {},
   "outputs": [
    {
     "name": "stdout",
     "output_type": "stream",
     "text": [
      "Fitted r_p from pseudo batch transformed data: 0.08215\n",
      "Fitted r_p from raw data: 0.04589\n",
      "True r_p: 0.08216\n"
     ]
    }
   ],
   "source": [
    "r_p_corrected = mu_hat_pseudo * yxp_corrected\n",
    "r_p_raw = mu_hat_raw * yxp_noncorrected\n",
    "r_p_true = fedbatch_df_measurement.mu_true.iloc[0] * fedbatch_df_measurement.Yxp.iloc[0]\n",
    "\n",
    "print(f\"Fitted r_p from pseudo batch transformed data: {r_p_corrected.round(5)}\")\n",
    "print(f\"Fitted r_p from raw data: {r_p_raw.round(5)}\")\n",
    "print(f\"True r_p: {r_p_true.round(5)}\")"
   ]
  },
  {
   "attachments": {},
   "cell_type": "markdown",
   "metadata": {},
   "source": [
    "And the specific glucose uptake rate"
   ]
  },
  {
   "cell_type": "code",
   "execution_count": 11,
   "metadata": {},
   "outputs": [
    {
     "name": "stdout",
     "output_type": "stream",
     "text": [
      "Fitted r_s from pseudo batch transformed data: 0.185\n",
      "True r_s: 0.18503\n"
     ]
    }
   ],
   "source": [
    "r_s_corrected = mu_hat_pseudo * yxs_corrected\n",
    "r_s_true = fedbatch_df_measurement.mu_true.iloc[0] * fedbatch_df_measurement.Yxs.iloc[0]\n",
    "\n",
    "print(f\"Fitted r_s from pseudo batch transformed data: {r_s_corrected.round(5)}\")\n",
    "print(f\"True r_s: {r_s_true.round(5)}\")"
   ]
  },
  {
   "attachments": {},
   "cell_type": "markdown",
   "metadata": {},
   "source": [
    "The specific rates calculated from the pseudo batch transformed data is correct to the four decimal point. Where as the specific rates calculated from the non corrected data are incorrect. In the next tutorial we will show how time series estimates of rates and yields based on pseudo batch transformed data. Continue [here](./3%20-%20Estimate%20time%20series%20parameters.ipynb)."
   ]
  }
 ],
 "metadata": {
  "kernelspec": {
   "display_name": "Python 3.8.5 ('.venv_fedbatch-data-correction': venv)",
   "language": "python",
   "name": "python3"
  },
  "language_info": {
   "codemirror_mode": {
    "name": "ipython",
    "version": 3
   },
   "file_extension": ".py",
   "mimetype": "text/x-python",
   "name": "python",
   "nbconvert_exporter": "python",
   "pygments_lexer": "ipython3",
   "version": "3.10.8"
  },
  "vscode": {
   "interpreter": {
    "hash": "0337f5dfa8bf2ee335f62d4679bbb5183dd2c214a8c6ed07ec0592e911fc9b16"
   }
  }
 },
 "nbformat": 4,
 "nbformat_minor": 2
}
