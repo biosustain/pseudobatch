{
 "cells": [
  {
   "cell_type": "markdown",
   "metadata": {},
   "source": [
    "# Pseudo batch transformation\n"
   ]
  },
  {
   "cell_type": "markdown",
   "metadata": {},
   "source": [
    "## loading fedbatch data"
   ]
  },
  {
   "cell_type": "code",
   "execution_count": 36,
   "metadata": {},
   "outputs": [],
   "source": [
    "import sys\n",
    "import os\n",
    "import pathlib\n",
    "import matplotlib.pyplot as plt\n",
    "import pandas as pd\n",
    "import numpy as np\n",
    "import seaborn as sns\n",
    "from patsy import dmatrices\n",
    "import statsmodels.api as sm\n",
    "\n",
    "from pseudobatch import pseudobatch_transform, pseudobatch_transform_pandas\n",
    "from pseudobatch.datasets._dataloaders import _prepare_simulated_dataset"
   ]
  },
  {
   "cell_type": "code",
   "execution_count": 37,
   "metadata": {},
   "outputs": [],
   "source": [
    "FIGURES_DIR = pathlib.Path('../figures')"
   ]
  },
  {
   "cell_type": "code",
   "execution_count": 38,
   "metadata": {},
   "outputs": [],
   "source": [
    "# import the dataset from the article/data folder, this makes sure if the simulations are rerun the new data is used\n",
    "data_path = pathlib.Path('../data/standard_fed-batch_process.csv')\n",
    "fedbatch_df = _prepare_simulated_dataset(data_path)"
   ]
  },
  {
   "attachments": {},
   "cell_type": "markdown",
   "metadata": {},
   "source": [
    "To calculate the consumed glucose we require a measurement of the glucose concentration when the feeding is initiated (time 0). Here we assume that we have a measurement at time 0, but if a measurement is not available therefore several options:\n",
    "1. Assume that initial glucose is 0. If the fed-batch is properly setup, the glucose concentration should be small at time 0. Thus, this assumption should not bias the results significantly. \n",
    "2. Estimate the concentration based on experience from similar batch cultures\n",
    "\n",
    "As stated earlier fed-batch fermentations typically has a low substrate concentration when the feeding is initiated. \n",
    "\n",
    "The the initial glucose concentration typically constitute a small fraction of the substrate add over the hole course of the fed-batch process. Thus in most cases it is not crucial to have a very accurate estimate of the initial substrate concentration. One should be cautious if the feeding phase the short, or if the initial substrate concentration is significant compared to the substrate added through feeding."
   ]
  },
  {
   "cell_type": "code",
   "execution_count": 39,
   "metadata": {},
   "outputs": [],
   "source": [
    "# calculate consumed glucose\n",
    "initial_m_glucose = fedbatch_df['m_Glucose'].iloc[0]\n",
    "glucose_conc_in_feed = fedbatch_df.s_f.iloc[0] \n",
    "fedbatch_df['m_consumed_Glucose'] = initial_m_glucose + fedbatch_df['v_Feed_accum'] * glucose_conc_in_feed - fedbatch_df['m_Glucose']  "
   ]
  },
  {
   "cell_type": "code",
   "execution_count": 40,
   "metadata": {},
   "outputs": [],
   "source": [
    "fedbatch_df_measurements_only = (fedbatch_df\n",
    "    .query('sample_volume > 0')\n",
    "    .copy()\n",
    ")"
   ]
  },
  {
   "cell_type": "code",
   "execution_count": 41,
   "metadata": {},
   "outputs": [
    {
     "name": "stdout",
     "output_type": "stream",
     "text": [
      "0.06597174185227486\n"
     ]
    }
   ],
   "source": [
    "y, X_noncorrected = dmatrices(formula_like = \"np.log(m_Biomass) ~ timestamp\", data= fedbatch_df_measurements_only)\n",
    "model_noncorrected = sm.OLS(endog=y, exog=X_noncorrected)\n",
    "res_noncorrected = model_noncorrected.fit()\n",
    "mu_hat_noncorrected = res_noncorrected.params[1]\n",
    "y_pred_noncorrected = res_noncorrected.predict(X_noncorrected)\n",
    "print(mu_hat_noncorrected)"
   ]
  },
  {
   "attachments": {},
   "cell_type": "markdown",
   "metadata": {},
   "source": [
    "# Calculate the growth rate using the pseudo batch transformation"
   ]
  },
  {
   "attachments": {},
   "cell_type": "markdown",
   "metadata": {},
   "source": [
    "Now we can calculate the corrected biomass using the pseudo batch transformation"
   ]
  },
  {
   "cell_type": "code",
   "execution_count": 42,
   "metadata": {},
   "outputs": [],
   "source": [
    "## Calculates dilution factor and cummulative dilution factor\n",
    "\n",
    "fedbatch_df[\"c_Biomass_pseudo\"] = pseudobatch_transform(\n",
    "    measured_concentration=fedbatch_df[\"c_Biomass\"].to_numpy(),\n",
    "    reactor_volume=fedbatch_df[\"v_Volume\"].to_numpy(),\n",
    "    accumulated_feed=fedbatch_df[\"v_Feed_accum\"].to_numpy(),\n",
    "    concentration_in_feed=0,\n",
    "    sample_volume=fedbatch_df[\"sample_volume\"].fillna(0).to_numpy(),\n",
    ")\n",
    "fedbatch_df_measurements_only[\"c_Biomass_pseudo\"] = pseudobatch_transform(\n",
    "    measured_concentration=fedbatch_df_measurements_only[\"c_Biomass\"].to_numpy(),\n",
    "    reactor_volume=fedbatch_df_measurements_only[\"v_Volume\"].to_numpy(),\n",
    "    accumulated_feed=fedbatch_df_measurements_only[\"v_Feed_accum\"].to_numpy(),\n",
    "    concentration_in_feed=0,\n",
    "    sample_volume=fedbatch_df_measurements_only[\"sample_volume\"].fillna(0).to_numpy(),\n",
    ")"
   ]
  },
  {
   "attachments": {},
   "cell_type": "markdown",
   "metadata": {},
   "source": [
    "Now we use a linear model to fit the growth rate. To ease visualization we will fit the model the pseudo mass instead of the pseudo concentration.\n",
    "\n",
    "$$\n",
    "log(m_{corrected, \\: Biomass}) = a + \\mu * t\n",
    "$$"
   ]
  },
  {
   "cell_type": "code",
   "execution_count": 49,
   "metadata": {},
   "outputs": [
    {
     "name": "stdout",
     "output_type": "stream",
     "text": [
      "Fitted growth rate from corrected biomass: 0.10000016643815145\n"
     ]
    }
   ],
   "source": [
    "# Calculate the pseudo mass of biomass\n",
    "initial_volume = fedbatch_df['v_Volume'].iloc[0]\n",
    "fedbatch_df_measurements_only['m_Biomass_pseudo'] = fedbatch_df_measurements_only['c_Biomass_pseudo'] * initial_volume\n",
    "\n",
    "y, X_corrected = dmatrices(formula_like = \"np.log(m_Biomass_pseudo) ~ timestamp\", data= fedbatch_df_measurements_only)\n",
    "model_corrected = sm.OLS(endog=y, exog=X_corrected)\n",
    "res_corrected = model_corrected.fit()\n",
    "mu_hat_corrected = res_corrected.params[1]\n",
    "print(\"Fitted growth rate from corrected biomass: \" + str(res_corrected.params[1]))"
   ]
  },
  {
   "cell_type": "code",
   "execution_count": 50,
   "metadata": {},
   "outputs": [
    {
     "data": {
      "image/png": "[encoded data removed]",
      "text/plain": [
       "<Figure size 432x288 with 1 Axes>"
      ]
     },
     "metadata": {
      "needs_background": "light"
     },
     "output_type": "display_data"
    },
    {
     "name": "stdout",
     "output_type": "stream",
     "text": [
      "Fitted growth rate from pseudo batch transformed biomass: 0.10000016643815145\n",
      "Fitted growth rate from raw biomass: 0.06597174185227486\n",
      "True simulated growth rate 0.1000104046529978\n"
     ]
    },
    {
     "data": {
      "text/plain": [
       "<Figure size 254.88x254.88 with 0 Axes>"
      ]
     },
     "metadata": {},
     "output_type": "display_data"
    }
   ],
   "source": [
    "## plot the data and the fitted line\n",
    "plt.scatter(fedbatch_df_measurements_only['timestamp'], fedbatch_df_measurements_only['m_Biomass_pseudo'].transform(np.log), label='Pseudo batch transformed', color = \"C1\")\n",
    "plt.scatter(fedbatch_df_measurements_only['timestamp'], fedbatch_df_measurements_only['m_Biomass'].transform(np.log), label='Raw data', color = \"C0\")\n",
    "plt.plot(fedbatch_df['timestamp'], fedbatch_df['m_Biomass'].transform(np.log), label='True biomass (simulation)', color='grey')\n",
    "\n",
    "# Drawing linear regression line\n",
    "x_pred = sm.add_constant(fedbatch_df['timestamp']) \n",
    "y_pred_pseudo = res_corrected.predict(x_pred)\n",
    "y_pred_raw = res_noncorrected.predict(x_pred) \n",
    "plt.plot(fedbatch_df['timestamp'], y_pred_pseudo, color='C1', linestyle = 'dashed', label='Fitted line (pseudo batch)')\n",
    "plt.plot(fedbatch_df['timestamp'], y_pred_raw, color='C0', linestyle = 'dashed', label='Fitted line (raw)')\n",
    "plt.legend()\n",
    "plt.ylabel(\"log(Biomas) [A.U.]\")\n",
    "plt.xlabel(\"Time [h]\")\n",
    "plt.show()\n",
    "\n",
    "print(\"Fitted growth rate from pseudo batch transformed biomass: \" + str(res_corrected.params[1]))\n",
    "print(\"Fitted growth rate from raw biomass: \" + str(res_noncorrected.params[1]))\n",
    "print(\"True simulated growth rate \" + str(fedbatch_df_measurements_only[\"mu_true\"].iloc[-1]))\n",
    "plt.savefig(FIGURES_DIR / \"transformed_and_non-transformed_logscale.png\", dpi=300)\n",
    "\n",
    "# resize height and width of figure\n",
    "fig = plt.gcf()\n",
    "fig.set_size_inches((3.54, 3.54))\n",
    "#fig.legend(bbox_to_anchor=(1.2, 0.5), loc='center right', borderaxespad=0.)\n",
    "fig.savefig(FIGURES_DIR / \"transformed_and_non-transformed_logscale_paper.png\", dpi=300)"
   ]
  }
 ],
 "metadata": {
  "kernelspec": {
   "display_name": "Python 3.8.5 ('.venv_fedbatch-data-correction': venv)",
   "language": "python",
   "name": "python3"
  },
  "language_info": {
   "codemirror_mode": {
    "name": "ipython",
    "version": 3
   },
   "file_extension": ".py",
   "mimetype": "text/x-python",
   "name": "python",
   "nbconvert_exporter": "python",
   "pygments_lexer": "ipython3",
   "version": "3.10.8"
  },
  "orig_nbformat": 4,
  "vscode": {
   "interpreter": {
    "hash": "0337f5dfa8bf2ee335f62d4679bbb5183dd2c214a8c6ed07ec0592e911fc9b16"
   }
  }
 },
 "nbformat": 4,
 "nbformat_minor": 2
}
