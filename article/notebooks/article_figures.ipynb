{
 "cells": [
  {
   "attachments": {},
   "cell_type": "markdown",
   "metadata": {},
   "source": [
    "# Article figures notebook\n",
    "This notebook contains the code to reproduce the figures included in the article."
   ]
  },
  {
   "cell_type": "code",
   "execution_count": 1,
   "metadata": {},
   "outputs": [
    {
     "name": "stderr",
     "output_type": "stream",
     "text": [
      "/Users/s143838/.virtualenvs/pseudobatch-dev/lib/python3.10/site-packages/tqdm/auto.py:21: TqdmWarning: IProgress not found. Please update jupyter and ipywidgets. See https://ipywidgets.readthedocs.io/en/stable/user_install.html\n",
      "  from .autonotebook import tqdm as notebook_tqdm\n"
     ]
    },
    {
     "name": "stdout",
     "output_type": "stream",
     "text": [
      "{'stan_version_major': '2', 'stan_version_minor': '29', 'stan_version_patch': '2', 'STAN_THREADS': 'false', 'STAN_MPI': 'false', 'STAN_OPENCL': 'false', 'STAN_NO_RANGE_CHECKS': 'false', 'STAN_CPP_OPTIMS': 'false'}\n"
     ]
    }
   ],
   "source": [
    "import pathlib\n",
    "import matplotlib.pyplot as plt\n",
    "import matplotlib as mpl\n",
    "import matplotlib.lines as mlines\n",
    "import seaborn as sns\n",
    "import numpy as np\n",
    "import pandas as pd\n",
    "from patsy import dmatrices\n",
    "import statsmodels.api as sm\n",
    "\n",
    "from pseudobatch import pseudobatch_transform, pseudobatch_transform_pandas \n",
    "from pseudobatch.datasets._dataloaders import _prepare_simulated_dataset"
   ]
  },
  {
   "cell_type": "code",
   "execution_count": 2,
   "metadata": {},
   "outputs": [
    {
     "data": {
      "image/png": "[encoded data removed]",
      "text/plain": [
       "<Figure size 915x750 with 1 Axes>"
      ]
     },
     "metadata": {},
     "output_type": "display_data"
    }
   ],
   "source": [
    "FIGURES_DIR = pathlib.Path('../figures')\n",
    "FIGURE_HEIGHT = 2.5 # inches\n",
    "PAGE_WIDTH = 6.1 # inches\n",
    "FIG_A_WIDTH = PAGE_WIDTH * 0.5 \n",
    "FIG_B_WIDTH = PAGE_WIDTH * 0.4\n",
    "\n",
    "mpl.rcParams['figure.constrained_layout.use'] = True\n",
    "mpl.rcParams['figure.dpi'] = 300\n",
    "# set point size for all plots\n",
    "mpl.rcParams['lines.markersize'] = 2\n",
    "solid_lines_format = dict(linewidth=1, marker=None)\n",
    "dashed_lines_format = dict(linewidth=1.5, marker=None, linestyle='--')\n",
    "\n",
    "MAIN_FIG, AX = plt.subplots(1, 1, figsize=(FIG_A_WIDTH, FIGURE_HEIGHT))"
   ]
  },
  {
   "attachments": {},
   "cell_type": "markdown",
   "metadata": {},
   "source": [
    "## Figure 1A"
   ]
  },
  {
   "cell_type": "code",
   "execution_count": 3,
   "metadata": {},
   "outputs": [],
   "source": [
    "# Here we do not use the datasets stored in the package.\n",
    "# Instead we import the dataset from the article/data folder, \n",
    "# this makes sure if the simulations are rerun the new data is used\n",
    "data_path = pathlib.Path('../data/standard_fed-batch_process.csv')\n",
    "fedbatch_df = _prepare_simulated_dataset(data_path)"
   ]
  },
  {
   "attachments": {},
   "cell_type": "markdown",
   "metadata": {},
   "source": [
    "We will make a seperate dataframe that contains on the measurements at the sampling time points."
   ]
  },
  {
   "cell_type": "code",
   "execution_count": 4,
   "metadata": {},
   "outputs": [],
   "source": [
    "fedbatch_df_measurements_only = (fedbatch_df\n",
    "    .query('sample_volume > 0')\n",
    "    .copy()\n",
    "    .reset_index(drop=True)\n",
    ")"
   ]
  },
  {
   "attachments": {},
   "cell_type": "markdown",
   "metadata": {},
   "source": [
    "We will start by fitting a log-linear model to the non-transformed biomass data in mass units (`m_Biomass`).\n",
    "\n",
    "$$\n",
    "log(m_{Biomass}) = a + \\mu * t\n",
    "$$"
   ]
  },
  {
   "cell_type": "code",
   "execution_count": 5,
   "metadata": {},
   "outputs": [
    {
     "name": "stdout",
     "output_type": "stream",
     "text": [
      "0.05468160932419806\n"
     ]
    }
   ],
   "source": [
    "y, X_noncorrected = dmatrices(formula_like = \"np.log(m_Biomass) ~ timestamp\", data= fedbatch_df_measurements_only)\n",
    "model_noncorrected = sm.OLS(endog=y, exog=X_noncorrected)\n",
    "res_noncorrected = model_noncorrected.fit()\n",
    "mu_hat_noncorrected = res_noncorrected.params[1]\n",
    "y_pred_noncorrected = res_noncorrected.predict(X_noncorrected)\n",
    "print(mu_hat_noncorrected)"
   ]
  },
  {
   "attachments": {},
   "cell_type": "markdown",
   "metadata": {},
   "source": [
    "The simulated fed-batch culture has a target growth rate of 0.1, thus the estimate based on the non-transformed data is wrong."
   ]
  },
  {
   "attachments": {},
   "cell_type": "markdown",
   "metadata": {},
   "source": [
    "# Calculate the growth rate using the pseudo batch transformation"
   ]
  },
  {
   "attachments": {},
   "cell_type": "markdown",
   "metadata": {},
   "source": [
    "Now we can calculate the corrected biomass using the pseudo batch transformation"
   ]
  },
  {
   "cell_type": "code",
   "execution_count": 6,
   "metadata": {},
   "outputs": [],
   "source": [
    "fedbatch_df[\"c_Biomass_pseudo\"] = pseudobatch_transform(\n",
    "    measured_concentration=fedbatch_df[\"c_Biomass\"].to_numpy(),\n",
    "    reactor_volume=fedbatch_df[\"v_Volume\"].to_numpy(),\n",
    "    accumulated_feed=fedbatch_df[\"v_Feed_accum\"].to_numpy(),\n",
    "    concentration_in_feed=0,\n",
    "    sample_volume=fedbatch_df[\"sample_volume\"].fillna(0).to_numpy(),\n",
    ")\n",
    "fedbatch_df_measurements_only[\"c_Biomass_pseudo\"] = pseudobatch_transform(\n",
    "    measured_concentration=fedbatch_df_measurements_only[\"c_Biomass\"].to_numpy(),\n",
    "    reactor_volume=fedbatch_df_measurements_only[\"v_Volume\"].to_numpy(),\n",
    "    accumulated_feed=fedbatch_df_measurements_only[\"v_Feed_accum\"].to_numpy(),\n",
    "    concentration_in_feed=0,\n",
    "    sample_volume=fedbatch_df_measurements_only[\"sample_volume\"].fillna(0).to_numpy(),\n",
    ")"
   ]
  },
  {
   "attachments": {},
   "cell_type": "markdown",
   "metadata": {},
   "source": [
    "Now we use a linear model to fit the growth rate using the pseudo concentrations.\n",
    "\n",
    "$$\n",
    "log(C^{\\star}_{Biomass}) = a + \\mu * t\n",
    "$$"
   ]
  },
  {
   "cell_type": "code",
   "execution_count": 7,
   "metadata": {},
   "outputs": [
    {
     "name": "stdout",
     "output_type": "stream",
     "text": [
      "Fitted growth rate from corrected biomass: 0.10000027170275563\n"
     ]
    }
   ],
   "source": [
    "y, X_corrected = dmatrices(formula_like = \"np.log(c_Biomass_pseudo) ~ timestamp\", data= fedbatch_df_measurements_only)\n",
    "model_corrected = sm.OLS(endog=y, exog=X_corrected)\n",
    "res_corrected = model_corrected.fit()\n",
    "mu_hat_corrected = res_corrected.params[1]\n",
    "print(\"Fitted growth rate from corrected biomass: \" + str(res_corrected.params[1]))"
   ]
  },
  {
   "attachments": {},
   "cell_type": "markdown",
   "metadata": {},
   "source": [
    "The pseudo concentrations and the raw mass measurements are in different numerical scales. This means that when plotted together on the same axis it is not easy to interpret. For visualization purposes we can multiply the pseudo concentrations by the initial reactor volume this scales the pseudo concentrations to a numerical scale that is comparable with the non-transformed mass measurements."
   ]
  },
  {
   "cell_type": "code",
   "execution_count": 8,
   "metadata": {},
   "outputs": [],
   "source": [
    "## plot the data and the fitted line\n",
    "initial_volume = fedbatch_df_measurements_only[\"v_Volume\"].iloc[0]\n",
    "AX.clear()\n",
    "AX.scatter(fedbatch_df_measurements_only['timestamp'], fedbatch_df_measurements_only['c_Biomass_pseudo'].multiply(initial_volume).transform(np.log), label='Pseudo batch transformed\\nmeasurement', color = \"C1\")\n",
    "AX.scatter(fedbatch_df_measurements_only['timestamp'], fedbatch_df_measurements_only['m_Biomass'].transform(np.log), label='Raw measurement', color = \"C0\")\n",
    "\n",
    "# Drawing linear regression line\n",
    "x_pred = sm.add_constant(fedbatch_df['timestamp']) \n",
    "# The model predicts log(c_Biomass_pseudo) and we want to plot log(c_Biomass_pseudo * initial_volume), thus we add log(initial_volume) to the prediction\n",
    "y_pred_pseudo = res_corrected.predict(x_pred) + np.log(initial_volume) \n",
    "y_pred_raw = res_noncorrected.predict(x_pred) \n",
    "\n",
    "# Order is for the best overlay of the lines\n",
    "AX.plot(fedbatch_df['timestamp'], y_pred_raw, color='C0', linestyle = 'dashed', label='Fitted line\\n(raw)')\n",
    "AX.plot(fedbatch_df['timestamp'], fedbatch_df['m_Biomass'].transform(np.log), label='True biomass', color='C0', linewidth=solid_lines_format['linewidth'], marker=None)\n",
    "AX.plot(fedbatch_df['timestamp'], y_pred_pseudo, color='C1', linestyle = 'dashed', label='Fitted line\\n(pseudo batch)')\n",
    "MAIN_FIG.supxlabel(\"Time [h]\")\n",
    "MAIN_FIG.supylabel(\"log(Biomass) [A.U.]\")\n",
    "MAIN_FIG.savefig(FIGURES_DIR / \"figure_paper.pdf\", bbox_inches='tight')"
   ]
  },
  {
   "attachments": {},
   "cell_type": "markdown",
   "metadata": {},
   "source": [
    "Finally, we inspect the fitted and true growth rates."
   ]
  },
  {
   "cell_type": "code",
   "execution_count": 9,
   "metadata": {},
   "outputs": [
    {
     "name": "stdout",
     "output_type": "stream",
     "text": [
      "Fitted growth rate from pseudo batch transformed biomass: 0.10000027170275563\n",
      "Fitted growth rate from raw biomass: 0.05468160932419806\n",
      "True simulated growth rate 0.1000107311536732\n"
     ]
    }
   ],
   "source": [
    "print(\"Fitted growth rate from pseudo batch transformed biomass: \" + str(res_corrected.params[1]))\n",
    "print(\"Fitted growth rate from raw biomass: \" + str(res_noncorrected.params[1]))\n",
    "print(\"True simulated growth rate \" + str(fedbatch_df_measurements_only[\"mu_true\"].iloc[-1]))"
   ]
  }
 ],
 "metadata": {
  "kernelspec": {
   "display_name": "Python 3.8.5 ('.venv_fedbatch-data-correction': venv)",
   "language": "python",
   "name": "python3"
  },
  "language_info": {
   "codemirror_mode": {
    "name": "ipython",
    "version": 3
   },
   "file_extension": ".py",
   "mimetype": "text/x-python",
   "name": "python",
   "nbconvert_exporter": "python",
   "pygments_lexer": "ipython3",
   "version": "3.10.8"
  },
  "orig_nbformat": 4,
  "vscode": {
   "interpreter": {
    "hash": "0337f5dfa8bf2ee335f62d4679bbb5183dd2c214a8c6ed07ec0592e911fc9b16"
   }
  }
 },
 "nbformat": 4,
 "nbformat_minor": 2
}
