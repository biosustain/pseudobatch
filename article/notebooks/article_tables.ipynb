{
 "cells": [
  {
   "attachments": {},
   "cell_type": "markdown",
   "metadata": {},
   "source": [
    "# Articles tables\n",
    "This notebook contains the code required to reproduce the table shown in the pseudo batch transformation article. "
   ]
  },
  {
   "attachments": {},
   "cell_type": "markdown",
   "metadata": {},
   "source": [
    "## loading fedbatch data"
   ]
  },
  {
   "cell_type": "code",
   "execution_count": 8,
   "metadata": {},
   "outputs": [],
   "source": [
    "import pathlib\n",
    "import pandas as pd\n",
    "from patsy import dmatrices\n",
    "import statsmodels.api as sm\n",
    "import numpy as np\n",
    "\n",
    "from pseudobatch import pseudobatch_transform_pandas\n",
    "from pseudobatch.datasets._dataloaders import _prepare_simulated_dataset"
   ]
  },
  {
   "cell_type": "code",
   "execution_count": 9,
   "metadata": {},
   "outputs": [],
   "source": [
    "# import the dataset from the article/data folder, this makes sure if the simulations are rerun the new data is used\n",
    "data_path = pathlib.Path('../data/standard_fed-batch_process.csv')\n",
    "fedbatch_df = _prepare_simulated_dataset(data_path)"
   ]
  },
  {
   "attachments": {},
   "cell_type": "markdown",
   "metadata": {},
   "source": [
    "Make a dataframe that only contains the measurements at the sampling time points."
   ]
  },
  {
   "cell_type": "code",
   "execution_count": 10,
   "metadata": {},
   "outputs": [],
   "source": [
    "fedbatch_df_measurements_only = (fedbatch_df\n",
    "    .query('sample_volume > 0')\n",
    "    .copy()\n",
    "    .reset_index(drop=True)\n",
    ")"
   ]
  },
  {
   "attachments": {},
   "cell_type": "markdown",
   "metadata": {},
   "source": [
    "We will now do the pseudo batch transformation of the simulated measurements."
   ]
  },
  {
   "cell_type": "code",
   "execution_count": 11,
   "metadata": {},
   "outputs": [],
   "source": [
    "glucose_in_feed = fedbatch_df_measurements_only['s_f'].iloc[0]\n",
    "\n",
    "fedbatch_df_measurements_only[[\"c_Biomass_pseudo\", \"c_Glucose_pseudo\", \"c_Product_pseudo\", \"c_CO2_pseudo\"]] = pseudobatch_transform_pandas(\n",
    "    fedbatch_df_measurements_only,\n",
    "    measured_concentration_colnames=[\"c_Biomass\", \"c_Glucose\", \"c_Product\", \"c_CO2\"],\n",
    "    reactor_volume_colname=\"v_Volume\",\n",
    "    accumulated_feed_colname=\"v_Feed_accum\",\n",
    "    sample_volume_colname=\"sample_volume\",\n",
    "    concentration_in_feed=[0, glucose_in_feed, 0, 0],\n",
    ")"
   ]
  },
  {
   "attachments": {},
   "cell_type": "markdown",
   "metadata": {},
   "source": [
    "## Calculate the growth rate using the pseudo batch transformation"
   ]
  },
  {
   "attachments": {},
   "cell_type": "markdown",
   "metadata": {},
   "source": [
    "Now we can calculate the corrected biomass using the pseudo batch transformation"
   ]
  },
  {
   "cell_type": "code",
   "execution_count": 12,
   "metadata": {},
   "outputs": [],
   "source": [
    "def fit_ols_model(formula_like: str, data: pd.DataFrame) -> sm.regression.linear_model.RegressionResultsWrapper:\n",
    "    y, X = dmatrices(formula_like, data)\n",
    "    model = sm.OLS(endog=y, exog=X)\n",
    "    res = model.fit()\n",
    "    return res"
   ]
  },
  {
   "attachments": {},
   "cell_type": "markdown",
   "metadata": {},
   "source": [
    "Now we can fit the growth rate for both the transform and raw biomass data."
   ]
  },
  {
   "cell_type": "code",
   "execution_count": 13,
   "metadata": {},
   "outputs": [],
   "source": [
    "res_mu_hat_corrected = fit_ols_model(\"np.log(c_Biomass_pseudo) ~ timestamp\", fedbatch_df_measurements_only)\n",
    "res_mu_hat_noncorrected = fit_ols_model(\"np.log(m_Biomass) ~ timestamp\", fedbatch_df_measurements_only)"
   ]
  },
  {
   "attachments": {},
   "cell_type": "markdown",
   "metadata": {},
   "source": [
    "## Calculate yields using the corrected fedbatch data\n",
    "...."
   ]
  },
  {
   "attachments": {},
   "cell_type": "markdown",
   "metadata": {},
   "source": [
    "We will first estimate the biomass based substrate yield. To estimate this for the raw data we first need to calculate the consumed glucose time series. This is simply done using the following equation:\n",
    "\n",
    "$$\n",
    "cm_{Glucose}(t) = m_{Glucose}(0) + \\int_0^t v_{feed}(t) dt \\cdot c_{Glucose \\: feed} - m_{Glucose}(t)\n",
    "$$\n",
    "\n",
    "where $cm_{Glucose}(t)$ is the consumed mass of glucose at timepoint $t$, $m_{Glucose}(t)$ is the mass of glucose at timepoint $t$, $v_{feed}(t)$ is the feeding profile (the time integral is the accumulated feed), $c_{Glucose \\: feed}$ is the concentration of glucose in the feeding medium and $m_{Glucose}(t)$ is the measured mass of glucose at time $t$."
   ]
  },
  {
   "cell_type": "code",
   "execution_count": 18,
   "metadata": {},
   "outputs": [],
   "source": [
    "initial_glucose = fedbatch_df_measurements_only['m_Glucose'].iloc[0]\n",
    "fedbatch_df_measurements_only['m_Glucose_consumed'] = fedbatch_df_measurements_only['v_Feed_accum'] * glucose_in_feed - fedbatch_df_measurements_only['m_Glucose'] - initial_glucose"
   ]
  },
  {
   "attachments": {},
   "cell_type": "markdown",
   "metadata": {},
   "source": [
    "The pseudobatch transformation automatically integrates the feeding volume, thus for the pseudo concentrations we don't need to do further processing. Now we are ready to estimate the yield coefficients. We will follow the standard of yield coefficient being positive."
   ]
  },
  {
   "cell_type": "code",
   "execution_count": 20,
   "metadata": {},
   "outputs": [
    {
     "name": "stdout",
     "output_type": "stream",
     "text": [
      "Fitted Yxs from raw data: 2.68841\n",
      "Fitted Yxs from pseudo batch transformed data: 1.85\n",
      "True Yxs: 1.85\n"
     ]
    }
   ],
   "source": [
    "res_yxs_noncorrected = fit_ols_model(formula_like = \"m_Glucose_consumed ~ m_Biomass\", data= fedbatch_df_measurements_only)\n",
    "res_yxs_corrected = fit_ols_model(formula_like = \"c_Glucose_pseudo ~ c_Biomass_pseudo\", data= fedbatch_df_measurements_only)\n",
    "\n",
    "print(f\"Fitted Yxs from raw data: {np.abs(res_yxs_noncorrected.params[1]).round(5)}\")\n",
    "print(f\"Fitted Yxs from pseudo batch transformed data: {np.abs(res_yxs_corrected.params[1]).round(5)}\")\n",
    "print(f\"True Yxs: {fedbatch_df.Yxs.iloc[0].round(5)}\")"
   ]
  },
  {
   "attachments": {},
   "cell_type": "markdown",
   "metadata": {},
   "source": [
    "We see that substrate yield coefficient is correctly calculated using the pseudo concentrations, while the estimate is wrong using the non-transformed data."
   ]
  },
  {
   "attachments": {},
   "cell_type": "markdown",
   "metadata": {},
   "source": [
    "## Calculate product yield\n",
    "We will now proceed to the biomass based product yield. The simulated fermentation process has to products: a generic product and CO2."
   ]
  },
  {
   "cell_type": "code",
   "execution_count": 21,
   "metadata": {},
   "outputs": [
    {
     "name": "stdout",
     "output_type": "stream",
     "text": [
      "Fitted Yxp from raw data: 0.82967\n",
      "Fitted Yxp from pseudo batch transformed data: 0.82151\n",
      "True Yxp: 0.82151\n"
     ]
    }
   ],
   "source": [
    "res_yxp_noncorrected = fit_ols_model(formula_like = \"m_Product ~ m_Biomass\", data= fedbatch_df_measurements_only)\n",
    "res_yxp_corrected = fit_ols_model(formula_like = \"c_Product_pseudo ~ c_Biomass_pseudo\", data= fedbatch_df_measurements_only)\n",
    "\n",
    "print(f\"Fitted Yxp from raw data: {res_yxp_noncorrected.params[1].round(5)}\")\n",
    "print(f\"Fitted Yxp from pseudo batch transformed data: {res_yxp_corrected.params[1].round(5)}\")\n",
    "print(f\"True Yxp: {fedbatch_df.Yxp.iloc[0].round(5)}\")"
   ]
  },
  {
   "cell_type": "code",
   "execution_count": 23,
   "metadata": {},
   "outputs": [
    {
     "name": "stdout",
     "output_type": "stream",
     "text": [
      "Fitted Yxco2 from raw data: 0.04564\n",
      "Fitted Yxco2 from pseudo batch transformed data: 0.04519\n",
      "True Yxco2: 0.04519\n"
     ]
    }
   ],
   "source": [
    "res_yxco2_noncorrected = fit_ols_model(formula_like = \"m_CO2 ~ m_Biomass\", data= fedbatch_df_measurements_only)\n",
    "res_yxco2_corrected = fit_ols_model(formula_like = \"c_CO2_pseudo ~ c_Biomass_pseudo\", data= fedbatch_df_measurements_only)\n",
    "\n",
    "print(f\"Fitted Yxco2 from raw data: {res_yxco2_noncorrected.params[1].round(5)}\")\n",
    "print(f\"Fitted Yxco2 from pseudo batch transformed data: {res_yxco2_corrected.params[1].round(5)}\")\n",
    "print(f\"True Yxco2: {fedbatch_df.Yxco2.iloc[0].round(5)}\")"
   ]
  },
  {
   "attachments": {},
   "cell_type": "markdown",
   "metadata": {},
   "source": [
    "For the product yield coefficient the error of not using the pseudo batch transformation is small, but still the yield based on the pseudo concentrations are more accurate."
   ]
  },
  {
   "attachments": {},
   "cell_type": "markdown",
   "metadata": {},
   "source": [
    "## Creating overview table\n",
    "In this section we simply collects all the above results in a table."
   ]
  },
  {
   "cell_type": "code",
   "execution_count": 24,
   "metadata": {},
   "outputs": [],
   "source": [
    "overview_table_raw = pd.DataFrame.from_dict({\n",
    "        \"Yxs\": [res_yxs_noncorrected.params[1], res_yxs_corrected.params[1], fedbatch_df.Yxs.iloc[0]],\n",
    "        \"Yxp\": [res_yxp_noncorrected.params[1], res_yxp_corrected.params[1], fedbatch_df.Yxp.iloc[0]],\n",
    "        \"Yxco2\": [res_yxco2_noncorrected.params[1], res_yxco2_corrected.params[1], fedbatch_df.Yxco2.iloc[0]],\n",
    "        \"mu\": [res_mu_hat_noncorrected.params[1], res_mu_hat_corrected.params[1], fedbatch_df.mu_true.iloc[0]],\n",
    "    }, \n",
    "    columns=[\n",
    "        \"Non-corrected\", \"Corrected\", \"True\"\n",
    "    ],\n",
    "    orient=\"index\",\n",
    ")"
   ]
  },
  {
   "cell_type": "code",
   "execution_count": 25,
   "metadata": {},
   "outputs": [],
   "source": [
    "def relative_error(true_value, predicted_value):\n",
    "    return (true_value - predicted_value) / true_value\n",
    "\n",
    "def combine_value_and_error(value: float, error: float)-> str:\n",
    "    return f\"{value:.2f} ({error:.2f})\"\n",
    "\n",
    "def prepare_output_strings(true_value: float, predicted_value: float)-> str:\n",
    "    error = relative_error(true_value, predicted_value)\n",
    "    error_in_percent = error * 100\n",
    "    return [combine_value_and_error(value=v, error=e) for v, e in zip(predicted_value, error)]\n"
   ]
  },
  {
   "cell_type": "code",
   "execution_count": 26,
   "metadata": {},
   "outputs": [
    {
     "data": {
      "text/html": [
       "<div>\n",
       "<style scoped>\n",
       "    .dataframe tbody tr th:only-of-type {\n",
       "        vertical-align: middle;\n",
       "    }\n",
       "\n",
       "    .dataframe tbody tr th {\n",
       "        vertical-align: top;\n",
       "    }\n",
       "\n",
       "    .dataframe thead th {\n",
       "        text-align: right;\n",
       "    }\n",
       "</style>\n",
       "<table border=\"1\" class=\"dataframe\">\n",
       "  <thead>\n",
       "    <tr style=\"text-align: right;\">\n",
       "      <th></th>\n",
       "      <th>True</th>\n",
       "      <th>Non-corrected (rel. error %)</th>\n",
       "      <th>Corrected (rel. error %)</th>\n",
       "    </tr>\n",
       "  </thead>\n",
       "  <tbody>\n",
       "    <tr>\n",
       "      <th>Yxs</th>\n",
       "      <td>1.85</td>\n",
       "      <td>2.69 (-0.45)</td>\n",
       "      <td>-1.85 (2.00)</td>\n",
       "    </tr>\n",
       "    <tr>\n",
       "      <th>Yxp</th>\n",
       "      <td>0.82</td>\n",
       "      <td>0.83 (-0.01)</td>\n",
       "      <td>0.82 (-0.00)</td>\n",
       "    </tr>\n",
       "    <tr>\n",
       "      <th>Yxco2</th>\n",
       "      <td>0.05</td>\n",
       "      <td>0.05 (-0.01)</td>\n",
       "      <td>0.05 (-0.00)</td>\n",
       "    </tr>\n",
       "    <tr>\n",
       "      <th>mu</th>\n",
       "      <td>0.10</td>\n",
       "      <td>0.07 (0.34)</td>\n",
       "      <td>0.10 (-0.00)</td>\n",
       "    </tr>\n",
       "  </tbody>\n",
       "</table>\n",
       "</div>"
      ],
      "text/plain": [
       "       True Non-corrected (rel. error %) Corrected (rel. error %)\n",
       "Yxs    1.85                 2.69 (-0.45)             -1.85 (2.00)\n",
       "Yxp    0.82                 0.83 (-0.01)             0.82 (-0.00)\n",
       "Yxco2  0.05                 0.05 (-0.01)             0.05 (-0.00)\n",
       "mu     0.10                  0.07 (0.34)             0.10 (-0.00)"
      ]
     },
     "execution_count": 26,
     "metadata": {},
     "output_type": "execute_result"
    }
   ],
   "source": [
    "overview_table_clean = (\n",
    "    overview_table_raw\n",
    "    .assign(rel_error_noncorrected=prepare_output_strings(overview_table_raw[\"True\"], overview_table_raw[\"Non-corrected\"]))\n",
    "    .assign(rel_error_corrected=prepare_output_strings(overview_table_raw[\"True\"], overview_table_raw[\"Corrected\"]))\n",
    "    .round(2)\n",
    "    .rename(columns={\n",
    "        \"rel_error_noncorrected\": \"Non-corrected (rel. error %)\",\n",
    "        \"rel_error_corrected\": \"Corrected (rel. error %)\"\n",
    "    })\n",
    "    .drop(columns=[\"Non-corrected\", \"Corrected\"])\n",
    ")\n",
    "overview_table_clean"
   ]
  }
 ],
 "metadata": {
  "kernelspec": {
   "display_name": "Python 3.8.5 ('.venv_fedbatch-data-correction': venv)",
   "language": "python",
   "name": "python3"
  },
  "language_info": {
   "codemirror_mode": {
    "name": "ipython",
    "version": 3
   },
   "file_extension": ".py",
   "mimetype": "text/x-python",
   "name": "python",
   "nbconvert_exporter": "python",
   "pygments_lexer": "ipython3",
   "version": "3.10.8"
  },
  "orig_nbformat": 4,
  "vscode": {
   "interpreter": {
    "hash": "0337f5dfa8bf2ee335f62d4679bbb5183dd2c214a8c6ed07ec0592e911fc9b16"
   }
  }
 },
 "nbformat": 4,
 "nbformat_minor": 2
}
