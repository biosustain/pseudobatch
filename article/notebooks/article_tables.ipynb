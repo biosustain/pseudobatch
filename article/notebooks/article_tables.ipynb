{
 "cells": [
  {
   "attachments": {},
   "cell_type": "markdown",
   "metadata": {},
   "source": [
    "# Articles tables\n",
    "This notebook contains the code required to reproduce the table shown in the pseudo batch transformation article. "
   ]
  },
  {
   "attachments": {},
   "cell_type": "markdown",
   "metadata": {},
   "source": [
    "## loading fedbatch data"
   ]
  },
  {
   "cell_type": "code",
   "execution_count": 25,
   "metadata": {},
   "outputs": [],
   "source": [
    "import pathlib\n",
    "import pandas as pd\n",
    "from patsy import dmatrices\n",
    "import statsmodels.api as sm\n",
    "import numpy as np\n",
    "\n",
    "from pseudobatch import pseudobatch_transform_pandas, preprocess_gaseous_species\n",
    "from pseudobatch.datasets._dataloaders import _prepare_simulated_dataset"
   ]
  },
  {
   "cell_type": "code",
   "execution_count": 26,
   "metadata": {},
   "outputs": [],
   "source": [
    "# import the dataset from the article/data folder, this makes sure if the simulations are rerun the new data is used\n",
    "data_path = pathlib.Path('../data/standard_fed-batch_process.csv')\n",
    "fedbatch_df = _prepare_simulated_dataset(data_path)"
   ]
  },
  {
   "attachments": {},
   "cell_type": "markdown",
   "metadata": {},
   "source": [
    "Make a dataframe that only contains the measurements at the sampling time points."
   ]
  },
  {
   "cell_type": "code",
   "execution_count": 27,
   "metadata": {},
   "outputs": [],
   "source": [
    "fedbatch_df_measurements_only = (fedbatch_df\n",
    "    .query('sample_volume > 0')\n",
    "    .copy()\n",
    "    .reset_index(drop=True)\n",
    ")"
   ]
  },
  {
   "attachments": {},
   "cell_type": "markdown",
   "metadata": {},
   "source": [
    "We will now do the pseudo batch transformation of the simulated measurements."
   ]
  },
  {
   "cell_type": "code",
   "execution_count": 28,
   "metadata": {},
   "outputs": [],
   "source": [
    "glucose_in_feed = fedbatch_df_measurements_only['s_f'].iloc[0]\n",
    "\n",
    "fedbatch_df_measurements_only[[\"c_Biomass_pseudo\", \"c_Glucose_pseudo\", \"c_Product_pseudo\"]] = pseudobatch_transform_pandas(\n",
    "    fedbatch_df_measurements_only,\n",
    "    measured_concentration_colnames=[\"c_Biomass\", \"c_Glucose\", \"c_Product\"],\n",
    "    reactor_volume_colname=\"v_Volume\",\n",
    "    accumulated_feed_colname=\"v_Feed_accum\",\n",
    "    sample_volume_colname=\"sample_volume\",\n",
    "    concentration_in_feed=[0, glucose_in_feed, 0],\n",
    ")"
   ]
  },
  {
   "attachments": {},
   "cell_type": "markdown",
   "metadata": {},
   "source": [
    "## Calculate the growth rate using the pseudo batch transformation"
   ]
  },
  {
   "attachments": {},
   "cell_type": "markdown",
   "metadata": {},
   "source": [
    "Now we can calculate the corrected biomass using the pseudo batch transformation"
   ]
  },
  {
   "cell_type": "code",
   "execution_count": 29,
   "metadata": {},
   "outputs": [],
   "source": [
    "def fit_ols_model(formula_like: str, data: pd.DataFrame) -> sm.regression.linear_model.RegressionResultsWrapper:\n",
    "    y, X = dmatrices(formula_like, data)\n",
    "    model = sm.OLS(endog=y, exog=X)\n",
    "    res = model.fit()\n",
    "    return res"
   ]
  },
  {
   "attachments": {},
   "cell_type": "markdown",
   "metadata": {},
   "source": [
    "Now we can fit the growth rate for both the transform and raw biomass data."
   ]
  },
  {
   "cell_type": "code",
   "execution_count": 30,
   "metadata": {},
   "outputs": [],
   "source": [
    "res_mu_hat_corrected = fit_ols_model(\"np.log(c_Biomass_pseudo) ~ timestamp\", fedbatch_df_measurements_only)\n",
    "res_mu_hat_noncorrected = fit_ols_model(\"np.log(m_Biomass) ~ timestamp\", fedbatch_df_measurements_only)"
   ]
  },
  {
   "attachments": {},
   "cell_type": "markdown",
   "metadata": {},
   "source": [
    "## Calculate yields using the corrected fedbatch data\n",
    "...."
   ]
  },
  {
   "attachments": {},
   "cell_type": "markdown",
   "metadata": {},
   "source": [
    "We will first estimate the biomass based substrate yield. To estimate this for the raw data we first need to calculate the consumed glucose time series. This is simply done using the following equation:\n",
    "\n",
    "$$\n",
    "cm_{Glucose}(t) = m_{Glucose}(0) + \\int_0^t v_{feed}(t) dt \\cdot c_{Glucose \\: feed} - m_{Glucose}(t)\n",
    "$$\n",
    "\n",
    "where $cm_{Glucose}(t)$ is the consumed mass of glucose at timepoint $t$, $m_{Glucose}(t)$ is the mass of glucose at timepoint $t$, $v_{feed}(t)$ is the feeding profile (the time integral is the accumulated feed), $c_{Glucose \\: feed}$ is the concentration of glucose in the feeding medium and $m_{Glucose}(t)$ is the measured mass of glucose at time $t$."
   ]
  },
  {
   "cell_type": "code",
   "execution_count": 31,
   "metadata": {},
   "outputs": [],
   "source": [
    "initial_glucose = fedbatch_df_measurements_only['m_Glucose'].iloc[0]\n",
    "fedbatch_df_measurements_only['m_Glucose_consumed'] = fedbatch_df_measurements_only['v_Feed_accum'] * glucose_in_feed - fedbatch_df_measurements_only['m_Glucose'] - initial_glucose"
   ]
  },
  {
   "attachments": {},
   "cell_type": "markdown",
   "metadata": {},
   "source": [
    "The pseudobatch transformation automatically integrates the feeding volume, thus for the pseudo concentrations we don't need to do further processing. Now we are ready to estimate the yield coefficients. We will follow the standard of yield coefficient being positive."
   ]
  },
  {
   "cell_type": "code",
   "execution_count": 32,
   "metadata": {},
   "outputs": [
    {
     "name": "stdout",
     "output_type": "stream",
     "text": [
      "Fitted Yxs from raw data: 3.35819\n",
      "Fitted Yxs from pseudo batch transformed data: 1.85\n",
      "True Yxs: 1.85\n"
     ]
    }
   ],
   "source": [
    "res_yxs_noncorrected = fit_ols_model(formula_like = \"m_Glucose_consumed ~ m_Biomass\", data= fedbatch_df_measurements_only)\n",
    "res_yxs_corrected = fit_ols_model(formula_like = \"c_Glucose_pseudo ~ c_Biomass_pseudo\", data= fedbatch_df_measurements_only)\n",
    "\n",
    "print(f\"Fitted Yxs from raw data: {np.abs(res_yxs_noncorrected.params[1]).round(5)}\")\n",
    "print(f\"Fitted Yxs from pseudo batch transformed data: {np.abs(res_yxs_corrected.params[1]).round(5)}\")\n",
    "print(f\"True Yxs: {fedbatch_df.Yxs.iloc[0].round(5)}\")"
   ]
  },
  {
   "attachments": {},
   "cell_type": "markdown",
   "metadata": {},
   "source": [
    "We see that substrate yield coefficient is correctly calculated using the pseudo concentrations, while the estimate is wrong using the non-transformed data."
   ]
  },
  {
   "attachments": {},
   "cell_type": "markdown",
   "metadata": {},
   "source": [
    "## Calculate product yield\n",
    "We will now proceed to the biomass based product yield. The simulated fermentation process has to products: a generic product and CO2."
   ]
  },
  {
   "cell_type": "code",
   "execution_count": 33,
   "metadata": {},
   "outputs": [
    {
     "name": "stdout",
     "output_type": "stream",
     "text": [
      "Fitted Yxp from raw data: 0.83926\n",
      "Fitted Yxp from pseudo batch transformed data: 0.82151\n",
      "True Yxp: 0.82151\n"
     ]
    }
   ],
   "source": [
    "res_yxp_noncorrected = fit_ols_model(formula_like = \"m_Product ~ m_Biomass\", data= fedbatch_df_measurements_only)\n",
    "res_yxp_corrected = fit_ols_model(formula_like = \"c_Product_pseudo ~ c_Biomass_pseudo\", data= fedbatch_df_measurements_only)\n",
    "\n",
    "print(f\"Fitted Yxp from raw data: {res_yxp_noncorrected.params[1].round(5)}\")\n",
    "print(f\"Fitted Yxp from pseudo batch transformed data: {res_yxp_corrected.params[1].round(5)}\")\n",
    "print(f\"True Yxp: {fedbatch_df.Yxp.iloc[0].round(5)}\")"
   ]
  },
  {
   "attachments": {},
   "cell_type": "markdown",
   "metadata": {},
   "source": [
    "For the product yield coefficient the error of not using the pseudo batch transformation is small, but still the yield based on the pseudo concentrations are more accurate."
   ]
  },
  {
   "cell_type": "markdown",
   "metadata": {},
   "source": [
    "## Calculate CO2 yield\n",
    "Most of the CO2 evaporates from the bioreactor, thus is is not removed through sample withdrawal. However as we will see we do not obtain a good estimate of the yield coefficient using the raw data here either. \n",
    "\n",
    "Measurements of CO2 are usually obtained through an off-gas analyzer that analyze the amount of CO2 passing through. To obtain the correct estimate, we need to preprocess these measurements in to a hypothetical liquid concentration as if the CO2 molecules did not evaporate. We can do this using the function `preprocess_gaseous_species()` and then pseudo batch transform the preprocessed data.\n",
    "\n",
    "The preprocessing assumes that the amount of CO2 in the liquid is neglectable compared to the accumulated product of CO2. We believe that this is often true in real fermentation processes. For testing purposes and simplification, the simulated fedbatch process assumes that all CO2 evaporates instantly after production."
   ]
  },
  {
   "cell_type": "code",
   "execution_count": 34,
   "metadata": {},
   "outputs": [],
   "source": [
    "fedbatch_df_measurements_only['preprocessed_CO2'] = preprocess_gaseous_species(\n",
    "    accumulated_amount_of_gaseous_species=fedbatch_df_measurements_only['m_CO2_gas'].values,\n",
    "    reactor_volume=fedbatch_df_measurements_only['v_Volume'],\n",
    "    sample_volume=fedbatch_df_measurements_only['sample_volume']\n",
    ")\n",
    "fedbatch_df_measurements_only['c_CO2_pseudo'] = pseudobatch_transform_pandas(\n",
    "    df=fedbatch_df_measurements_only,\n",
    "    measured_concentration_colnames=['preprocessed_CO2'],\n",
    "    reactor_volume_colname='v_Volume',\n",
    "    accumulated_feed_colname='v_Feed_accum',\n",
    "    concentration_in_feed=[0],\n",
    "    sample_volume_colname='sample_volume',\n",
    ")"
   ]
  },
  {
   "cell_type": "markdown",
   "metadata": {},
   "source": [
    "Now, we can estimate the yield coefficients from the raw and the transformed data."
   ]
  },
  {
   "cell_type": "code",
   "execution_count": 35,
   "metadata": {},
   "outputs": [
    {
     "name": "stdout",
     "output_type": "stream",
     "text": [
      "Fitted Yxco2 from raw data: 0.08193\n",
      "Fitted Yxco2 from pseudo batch transformed data: 0.04519\n",
      "True Yxco2: 0.04519\n"
     ]
    }
   ],
   "source": [
    "res_yxco2_noncorrected = fit_ols_model(formula_like = \"m_CO2_gas ~ m_Biomass\", data= fedbatch_df_measurements_only)\n",
    "res_yxco2_corrected = fit_ols_model(formula_like = \"c_CO2_pseudo ~ c_Biomass_pseudo\", data= fedbatch_df_measurements_only)\n",
    "\n",
    "print(f\"Fitted Yxco2 from raw data: {res_yxco2_noncorrected.params[1].round(5)}\")\n",
    "print(f\"Fitted Yxco2 from pseudo batch transformed data: {res_yxco2_corrected.params[1].round(5)}\")\n",
    "print(f\"True Yxco2: {fedbatch_df.Yxco2.iloc[0].round(5)}\")"
   ]
  },
  {
   "cell_type": "markdown",
   "metadata": {},
   "source": [
    "Again we are able to calculate the correct yield using the pseudo batch transformed data."
   ]
  },
  {
   "attachments": {},
   "cell_type": "markdown",
   "metadata": {},
   "source": [
    "## Creating overview table\n",
    "In this section we simply collects all the above results in a table."
   ]
  },
  {
   "cell_type": "code",
   "execution_count": 36,
   "metadata": {},
   "outputs": [],
   "source": [
    "overview_table_raw = pd.DataFrame.from_dict({\n",
    "        \"Yxs\": np.abs([res_yxs_noncorrected.params[1], res_yxs_corrected.params[1], fedbatch_df.Yxs.iloc[0]]),\n",
    "        \"Yxp\": [res_yxp_noncorrected.params[1], res_yxp_corrected.params[1], fedbatch_df.Yxp.iloc[0]],\n",
    "        \"Yxco2\": [res_yxco2_noncorrected.params[1], res_yxco2_corrected.params[1], fedbatch_df.Yxco2.iloc[0]],\n",
    "        \"mu\": [res_mu_hat_noncorrected.params[1], res_mu_hat_corrected.params[1], fedbatch_df.mu_true.iloc[0]],\n",
    "    }, \n",
    "    columns=[\n",
    "        \"Non-corrected\", \"Corrected\", \"True\"\n",
    "    ],\n",
    "    orient=\"index\",\n",
    ")"
   ]
  },
  {
   "cell_type": "code",
   "execution_count": 37,
   "metadata": {},
   "outputs": [],
   "source": [
    "def relative_error(true_value, predicted_value):\n",
    "    return (true_value - predicted_value) / true_value\n",
    "\n",
    "def combine_value_and_error(value: float, error: float)-> str:\n",
    "    return f\"{value:.2f} ({error:.2f})\"\n",
    "\n",
    "def prepare_output_strings(true_value: float, predicted_value: float)-> str:\n",
    "    error = relative_error(true_value, predicted_value)\n",
    "    error_in_percent = error * 100\n",
    "    return [combine_value_and_error(value=v, error=e) for v, e in zip(predicted_value, error)]\n"
   ]
  },
  {
   "cell_type": "code",
   "execution_count": 38,
   "metadata": {},
   "outputs": [
    {
     "data": {
      "text/html": [
       "<div>\n",
       "<style scoped>\n",
       "    .dataframe tbody tr th:only-of-type {\n",
       "        vertical-align: middle;\n",
       "    }\n",
       "\n",
       "    .dataframe tbody tr th {\n",
       "        vertical-align: top;\n",
       "    }\n",
       "\n",
       "    .dataframe thead th {\n",
       "        text-align: right;\n",
       "    }\n",
       "</style>\n",
       "<table border=\"1\" class=\"dataframe\">\n",
       "  <thead>\n",
       "    <tr style=\"text-align: right;\">\n",
       "      <th></th>\n",
       "      <th>True</th>\n",
       "      <th>Non-corrected (rel. error %)</th>\n",
       "      <th>Corrected (rel. error %)</th>\n",
       "    </tr>\n",
       "  </thead>\n",
       "  <tbody>\n",
       "    <tr>\n",
       "      <th>Yxs</th>\n",
       "      <td>1.85</td>\n",
       "      <td>3.36 (-0.82)</td>\n",
       "      <td>1.85 (-0.00)</td>\n",
       "    </tr>\n",
       "    <tr>\n",
       "      <th>Yxp</th>\n",
       "      <td>0.82</td>\n",
       "      <td>0.84 (-0.02)</td>\n",
       "      <td>0.82 (0.00)</td>\n",
       "    </tr>\n",
       "    <tr>\n",
       "      <th>Yxco2</th>\n",
       "      <td>0.05</td>\n",
       "      <td>0.08 (-0.81)</td>\n",
       "      <td>0.05 (-0.00)</td>\n",
       "    </tr>\n",
       "    <tr>\n",
       "      <th>mu</th>\n",
       "      <td>0.10</td>\n",
       "      <td>0.05 (0.45)</td>\n",
       "      <td>0.10 (-0.00)</td>\n",
       "    </tr>\n",
       "  </tbody>\n",
       "</table>\n",
       "</div>"
      ],
      "text/plain": [
       "       True Non-corrected (rel. error %) Corrected (rel. error %)\n",
       "Yxs    1.85                 3.36 (-0.82)             1.85 (-0.00)\n",
       "Yxp    0.82                 0.84 (-0.02)              0.82 (0.00)\n",
       "Yxco2  0.05                 0.08 (-0.81)             0.05 (-0.00)\n",
       "mu     0.10                  0.05 (0.45)             0.10 (-0.00)"
      ]
     },
     "execution_count": 38,
     "metadata": {},
     "output_type": "execute_result"
    }
   ],
   "source": [
    "overview_table_clean = (\n",
    "    overview_table_raw\n",
    "    .assign(rel_error_noncorrected=prepare_output_strings(overview_table_raw[\"True\"], overview_table_raw[\"Non-corrected\"]))\n",
    "    .assign(rel_error_corrected=prepare_output_strings(overview_table_raw[\"True\"], overview_table_raw[\"Corrected\"]))\n",
    "    .round(2)\n",
    "    .rename(columns={\n",
    "        \"rel_error_noncorrected\": \"Non-corrected (rel. error %)\",\n",
    "        \"rel_error_corrected\": \"Corrected (rel. error %)\"\n",
    "    })\n",
    "    .drop(columns=[\"Non-corrected\", \"Corrected\"])\n",
    ")\n",
    "overview_table_clean"
   ]
  },
  {
   "attachments": {},
   "cell_type": "markdown",
   "metadata": {},
   "source": [
    "## Simulation parameters table\n",
    "In the following section, we will fetch the parameters used for the simulation. These are stored in the dataframe with the simulated data."
   ]
  },
  {
   "cell_type": "code",
   "execution_count": 39,
   "metadata": {},
   "outputs": [],
   "source": [
    "# import the dataset from the article/data folder, this makes sure if the simulations are rerun the new data is used\n",
    "path_standard_fb = pathlib.Path('../data/standard_fed-batch_process.csv')\n",
    "standard_fb_df = _prepare_simulated_dataset(path_standard_fb)"
   ]
  },
  {
   "cell_type": "code",
   "execution_count": 40,
   "metadata": {},
   "outputs": [],
   "source": [
    "simulation_parameters = standard_fb_df[['Kc_s', 'mu_max', 'Yxs', 'Yxp', 'Yxco2', 'F0', 'mu0', 's_f']].iloc[0]\n",
    "simulation_parameters['sample_volume'] = standard_fb_df['sample_volume'].unique()[1]"
   ]
  },
  {
   "cell_type": "code",
   "execution_count": 41,
   "metadata": {},
   "outputs": [],
   "source": [
    "parameter_description = {\n",
    "    'Kc_s': 'The Ks value for the monod equation',\n",
    "    'mu_max': 'The maximum specific growth rate',\n",
    "    'Yxs': 'The yield of substrate on biomass',\n",
    "    'Yxp': 'The yield of product on biomass',\n",
    "    'Yxco2': 'The yield of CO2 on biomass',\n",
    "    'F0': 'The initial feed rate',\n",
    "    'mu0': 'The target specific growth rate used to calculate the feed rate',\n",
    "    's_f': 'The substrate concentration in the feed',\n",
    "    'sample_volume': 'The sample volume'\n",
    "}\n",
    "\n",
    "parameter_units = {\n",
    "    'Kc_s': 'g/L',\n",
    "    'mu_max': '1/h',\n",
    "    'Yxs': 'gSubstrate / gBiomass',\n",
    "    'Yxp': 'gProduct / gBiomass',\n",
    "    'Yxco2': 'gCO2 / gBiomass',\n",
    "    'F0': 'µL/h',\n",
    "    'mu0': '1/h',\n",
    "    's_f': 'g/L',\n",
    "    'sample_volume': 'µL'\n",
    "}"
   ]
  },
  {
   "cell_type": "code",
   "execution_count": 42,
   "metadata": {},
   "outputs": [],
   "source": [
    "simulation_parameters_df = (simulation_parameters\n",
    "    .reset_index()\n",
    "    .rename(columns={'index': 'Parameter symbol', 0: 'Value'})\n",
    ")\n",
    "simulation_parameters_df['Unit'] = simulation_parameters_df['Parameter symbol'].map(parameter_units)\n",
    "simulation_parameters_df['Parameter description'] = simulation_parameters_df['Parameter symbol'].map(parameter_description)"
   ]
  },
  {
   "cell_type": "code",
   "execution_count": 43,
   "metadata": {},
   "outputs": [
    {
     "data": {
      "text/html": [
       "<style type=\"text/css\">\n",
       "</style>\n",
       "<table id=\"T_13c01\">\n",
       "  <thead>\n",
       "    <tr>\n",
       "      <th id=\"T_13c01_level0_col0\" class=\"col_heading level0 col0\" >Parameter symbol</th>\n",
       "      <th id=\"T_13c01_level0_col1\" class=\"col_heading level0 col1\" >Value</th>\n",
       "      <th id=\"T_13c01_level0_col2\" class=\"col_heading level0 col2\" >Unit</th>\n",
       "      <th id=\"T_13c01_level0_col3\" class=\"col_heading level0 col3\" >Parameter description</th>\n",
       "    </tr>\n",
       "  </thead>\n",
       "  <tbody>\n",
       "    <tr>\n",
       "      <td id=\"T_13c01_row0_col0\" class=\"data row0 col0\" >Kc_s</td>\n",
       "      <td id=\"T_13c01_row0_col1\" class=\"data row0 col1\" >0.150</td>\n",
       "      <td id=\"T_13c01_row0_col2\" class=\"data row0 col2\" >g/L</td>\n",
       "      <td id=\"T_13c01_row0_col3\" class=\"data row0 col3\" >The Ks value for the monod equation</td>\n",
       "    </tr>\n",
       "    <tr>\n",
       "      <td id=\"T_13c01_row1_col0\" class=\"data row1 col0\" >mu_max</td>\n",
       "      <td id=\"T_13c01_row1_col1\" class=\"data row1 col1\" >0.300</td>\n",
       "      <td id=\"T_13c01_row1_col2\" class=\"data row1 col2\" >1/h</td>\n",
       "      <td id=\"T_13c01_row1_col3\" class=\"data row1 col3\" >The maximum specific growth rate</td>\n",
       "    </tr>\n",
       "    <tr>\n",
       "      <td id=\"T_13c01_row2_col0\" class=\"data row2 col0\" >Yxs</td>\n",
       "      <td id=\"T_13c01_row2_col1\" class=\"data row2 col1\" >1.850</td>\n",
       "      <td id=\"T_13c01_row2_col2\" class=\"data row2 col2\" >gSubstrate / gBiomass</td>\n",
       "      <td id=\"T_13c01_row2_col3\" class=\"data row2 col3\" >The yield of substrate on biomass</td>\n",
       "    </tr>\n",
       "    <tr>\n",
       "      <td id=\"T_13c01_row3_col0\" class=\"data row3 col0\" >Yxp</td>\n",
       "      <td id=\"T_13c01_row3_col1\" class=\"data row3 col1\" >0.822</td>\n",
       "      <td id=\"T_13c01_row3_col2\" class=\"data row3 col2\" >gProduct / gBiomass</td>\n",
       "      <td id=\"T_13c01_row3_col3\" class=\"data row3 col3\" >The yield of product on biomass</td>\n",
       "    </tr>\n",
       "    <tr>\n",
       "      <td id=\"T_13c01_row4_col0\" class=\"data row4 col0\" >Yxco2</td>\n",
       "      <td id=\"T_13c01_row4_col1\" class=\"data row4 col1\" >0.045</td>\n",
       "      <td id=\"T_13c01_row4_col2\" class=\"data row4 col2\" >gCO2 / gBiomass</td>\n",
       "      <td id=\"T_13c01_row4_col3\" class=\"data row4 col3\" >The yield of CO2 on biomass</td>\n",
       "    </tr>\n",
       "    <tr>\n",
       "      <td id=\"T_13c01_row5_col0\" class=\"data row5 col0\" >F0</td>\n",
       "      <td id=\"T_13c01_row5_col1\" class=\"data row5 col1\" >0.063</td>\n",
       "      <td id=\"T_13c01_row5_col2\" class=\"data row5 col2\" >µL/h</td>\n",
       "      <td id=\"T_13c01_row5_col3\" class=\"data row5 col3\" >The initial feed rate</td>\n",
       "    </tr>\n",
       "    <tr>\n",
       "      <td id=\"T_13c01_row6_col0\" class=\"data row6 col0\" >mu0</td>\n",
       "      <td id=\"T_13c01_row6_col1\" class=\"data row6 col1\" >0.100</td>\n",
       "      <td id=\"T_13c01_row6_col2\" class=\"data row6 col2\" >1/h</td>\n",
       "      <td id=\"T_13c01_row6_col3\" class=\"data row6 col3\" >The target specific growth rate used to calculate the feed rate</td>\n",
       "    </tr>\n",
       "    <tr>\n",
       "      <td id=\"T_13c01_row7_col0\" class=\"data row7 col0\" >s_f</td>\n",
       "      <td id=\"T_13c01_row7_col1\" class=\"data row7 col1\" >100.000</td>\n",
       "      <td id=\"T_13c01_row7_col2\" class=\"data row7 col2\" >g/L</td>\n",
       "      <td id=\"T_13c01_row7_col3\" class=\"data row7 col3\" >The substrate concentration in the feed</td>\n",
       "    </tr>\n",
       "    <tr>\n",
       "      <td id=\"T_13c01_row8_col0\" class=\"data row8 col0\" >sample_volume</td>\n",
       "      <td id=\"T_13c01_row8_col1\" class=\"data row8 col1\" >170.000</td>\n",
       "      <td id=\"T_13c01_row8_col2\" class=\"data row8 col2\" >µL</td>\n",
       "      <td id=\"T_13c01_row8_col3\" class=\"data row8 col3\" >The sample volume</td>\n",
       "    </tr>\n",
       "  </tbody>\n",
       "</table>\n"
      ],
      "text/plain": [
       "<pandas.io.formats.style.Styler at 0x129340bb0>"
      ]
     },
     "execution_count": 43,
     "metadata": {},
     "output_type": "execute_result"
    }
   ],
   "source": [
    "simulation_parameters_df.style.format(\"{:.3f}\", subset=['Value']).hide(level=0)"
   ]
  },
  {
   "cell_type": "code",
   "execution_count": null,
   "metadata": {},
   "outputs": [],
   "source": []
  }
 ],
 "metadata": {
  "kernelspec": {
   "display_name": "Python 3.8.5 ('.venv_fedbatch-data-correction': venv)",
   "language": "python",
   "name": "python3"
  },
  "language_info": {
   "codemirror_mode": {
    "name": "ipython",
    "version": 3
   },
   "file_extension": ".py",
   "mimetype": "text/x-python",
   "name": "python",
   "nbconvert_exporter": "python",
   "pygments_lexer": "ipython3",
   "version": "3.10.8"
  },
  "orig_nbformat": 4,
  "vscode": {
   "interpreter": {
    "hash": "0337f5dfa8bf2ee335f62d4679bbb5183dd2c214a8c6ed07ec0592e911fc9b16"
   }
  }
 },
 "nbformat": 4,
 "nbformat_minor": 2
}
