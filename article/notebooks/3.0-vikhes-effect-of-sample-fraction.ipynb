{
 "cells": [
  {
   "cell_type": "code",
   "execution_count": 2,
   "metadata": {},
   "outputs": [],
   "source": [
    "import matplotlib.pyplot as plt\n",
    "import pandas as pd\n",
    "import seaborn as sns\n",
    "import numpy as np\n",
    "from patsy import dmatrices\n",
    "import os\n",
    "import dotenv\n",
    "import statsmodels.api as sm\n",
    "\n",
    "os.chdir(dotenv.find_dotenv().replace('.env', ''))\n",
    "from src.data_correction import pseudobatch_transform"
   ]
  },
  {
   "cell_type": "code",
   "execution_count": 3,
   "metadata": {},
   "outputs": [],
   "source": [
    "!cp ../fermentation_simulator/simulated_data/varying_sample_volume.csv data/"
   ]
  },
  {
   "cell_type": "code",
   "execution_count": 16,
   "metadata": {},
   "outputs": [
    {
     "data": {
      "text/html": [
       "<div>\n",
       "<style scoped>\n",
       "    .dataframe tbody tr th:only-of-type {\n",
       "        vertical-align: middle;\n",
       "    }\n",
       "\n",
       "    .dataframe tbody tr th {\n",
       "        vertical-align: top;\n",
       "    }\n",
       "\n",
       "    .dataframe thead th {\n",
       "        text-align: right;\n",
       "    }\n",
       "</style>\n",
       "<table border=\"1\" class=\"dataframe\">\n",
       "  <thead>\n",
       "    <tr style=\"text-align: right;\">\n",
       "      <th></th>\n",
       "      <th>Kc_s</th>\n",
       "      <th>Yxs</th>\n",
       "      <th>abs_relerror_Yxp_hat</th>\n",
       "      <th>abs_relerror_Yxs_hat</th>\n",
       "      <th>abs_relerror_mu_hat</th>\n",
       "      <th>mu0</th>\n",
       "      <th>mu_max</th>\n",
       "      <th>n_samples</th>\n",
       "      <th>product_yield_frac</th>\n",
       "      <th>s_f</th>\n",
       "      <th>sample_volume_fraction</th>\n",
       "      <th>mu_percent_relerror</th>\n",
       "      <th>Yxp_percent_relerror</th>\n",
       "      <th>Yxs_percent_relerror</th>\n",
       "    </tr>\n",
       "  </thead>\n",
       "  <tbody>\n",
       "    <tr>\n",
       "      <th>0</th>\n",
       "      <td>0.15</td>\n",
       "      <td>1.85</td>\n",
       "      <td>2.702883e-16</td>\n",
       "      <td>2.400482e-16</td>\n",
       "      <td>7.917315e-08</td>\n",
       "      <td>0.1</td>\n",
       "      <td>0.3</td>\n",
       "      <td>10.0</td>\n",
       "      <td>0.4</td>\n",
       "      <td>100.0</td>\n",
       "      <td>0.000000</td>\n",
       "      <td>0.000008</td>\n",
       "      <td>2.702883e-14</td>\n",
       "      <td>2.400482e-14</td>\n",
       "    </tr>\n",
       "    <tr>\n",
       "      <th>1</th>\n",
       "      <td>0.15</td>\n",
       "      <td>1.85</td>\n",
       "      <td>3.720055e-03</td>\n",
       "      <td>1.898371e-01</td>\n",
       "      <td>1.604912e-01</td>\n",
       "      <td>0.1</td>\n",
       "      <td>0.3</td>\n",
       "      <td>10.0</td>\n",
       "      <td>0.4</td>\n",
       "      <td>100.0</td>\n",
       "      <td>0.088889</td>\n",
       "      <td>16.049122</td>\n",
       "      <td>3.720055e-01</td>\n",
       "      <td>1.898371e+01</td>\n",
       "    </tr>\n",
       "    <tr>\n",
       "      <th>2</th>\n",
       "      <td>0.15</td>\n",
       "      <td>1.85</td>\n",
       "      <td>1.374309e-02</td>\n",
       "      <td>5.099017e-01</td>\n",
       "      <td>3.374706e-01</td>\n",
       "      <td>0.1</td>\n",
       "      <td>0.3</td>\n",
       "      <td>10.0</td>\n",
       "      <td>0.4</td>\n",
       "      <td>100.0</td>\n",
       "      <td>0.177778</td>\n",
       "      <td>33.747058</td>\n",
       "      <td>1.374309e+00</td>\n",
       "      <td>5.099017e+01</td>\n",
       "    </tr>\n",
       "    <tr>\n",
       "      <th>3</th>\n",
       "      <td>0.15</td>\n",
       "      <td>1.85</td>\n",
       "      <td>4.608295e-02</td>\n",
       "      <td>1.154008e+00</td>\n",
       "      <td>5.347180e-01</td>\n",
       "      <td>0.1</td>\n",
       "      <td>0.3</td>\n",
       "      <td>10.0</td>\n",
       "      <td>0.4</td>\n",
       "      <td>100.0</td>\n",
       "      <td>0.266667</td>\n",
       "      <td>53.471802</td>\n",
       "      <td>4.608295e+00</td>\n",
       "      <td>1.154008e+02</td>\n",
       "    </tr>\n",
       "    <tr>\n",
       "      <th>4</th>\n",
       "      <td>0.15</td>\n",
       "      <td>1.85</td>\n",
       "      <td>1.858238e-01</td>\n",
       "      <td>2.894263e+00</td>\n",
       "      <td>7.574836e-01</td>\n",
       "      <td>0.1</td>\n",
       "      <td>0.3</td>\n",
       "      <td>10.0</td>\n",
       "      <td>0.4</td>\n",
       "      <td>100.0</td>\n",
       "      <td>0.355556</td>\n",
       "      <td>75.748357</td>\n",
       "      <td>1.858238e+01</td>\n",
       "      <td>2.894263e+02</td>\n",
       "    </tr>\n",
       "    <tr>\n",
       "      <th>5</th>\n",
       "      <td>0.15</td>\n",
       "      <td>1.85</td>\n",
       "      <td>8.999232e-02</td>\n",
       "      <td>2.243805e+00</td>\n",
       "      <td>1.013365e+00</td>\n",
       "      <td>0.1</td>\n",
       "      <td>0.3</td>\n",
       "      <td>10.0</td>\n",
       "      <td>0.4</td>\n",
       "      <td>100.0</td>\n",
       "      <td>0.444444</td>\n",
       "      <td>101.336485</td>\n",
       "      <td>8.999232e+00</td>\n",
       "      <td>2.243805e+02</td>\n",
       "    </tr>\n",
       "    <tr>\n",
       "      <th>6</th>\n",
       "      <td>0.15</td>\n",
       "      <td>1.85</td>\n",
       "      <td>4.793084e-01</td>\n",
       "      <td>3.564993e+00</td>\n",
       "      <td>1.313956e+00</td>\n",
       "      <td>0.1</td>\n",
       "      <td>0.3</td>\n",
       "      <td>10.0</td>\n",
       "      <td>0.4</td>\n",
       "      <td>100.0</td>\n",
       "      <td>0.533333</td>\n",
       "      <td>131.395618</td>\n",
       "      <td>4.793084e+01</td>\n",
       "      <td>3.564993e+02</td>\n",
       "    </tr>\n",
       "    <tr>\n",
       "      <th>7</th>\n",
       "      <td>0.15</td>\n",
       "      <td>1.85</td>\n",
       "      <td>4.801960e-01</td>\n",
       "      <td>2.501135e+00</td>\n",
       "      <td>1.678260e+00</td>\n",
       "      <td>0.1</td>\n",
       "      <td>0.3</td>\n",
       "      <td>10.0</td>\n",
       "      <td>0.4</td>\n",
       "      <td>100.0</td>\n",
       "      <td>0.622222</td>\n",
       "      <td>167.826045</td>\n",
       "      <td>4.801960e+01</td>\n",
       "      <td>2.501135e+02</td>\n",
       "    </tr>\n",
       "    <tr>\n",
       "      <th>8</th>\n",
       "      <td>0.15</td>\n",
       "      <td>1.85</td>\n",
       "      <td>4.993003e-01</td>\n",
       "      <td>2.036261e+00</td>\n",
       "      <td>2.140757e+00</td>\n",
       "      <td>0.1</td>\n",
       "      <td>0.3</td>\n",
       "      <td>10.0</td>\n",
       "      <td>0.4</td>\n",
       "      <td>100.0</td>\n",
       "      <td>0.711111</td>\n",
       "      <td>214.075695</td>\n",
       "      <td>4.993003e+01</td>\n",
       "      <td>2.036261e+02</td>\n",
       "    </tr>\n",
       "    <tr>\n",
       "      <th>9</th>\n",
       "      <td>0.15</td>\n",
       "      <td>1.85</td>\n",
       "      <td>5.164278e-01</td>\n",
       "      <td>1.781852e+00</td>\n",
       "      <td>2.774727e+00</td>\n",
       "      <td>0.1</td>\n",
       "      <td>0.3</td>\n",
       "      <td>10.0</td>\n",
       "      <td>0.4</td>\n",
       "      <td>100.0</td>\n",
       "      <td>0.800000</td>\n",
       "      <td>277.472733</td>\n",
       "      <td>5.164278e+01</td>\n",
       "      <td>1.781852e+02</td>\n",
       "    </tr>\n",
       "  </tbody>\n",
       "</table>\n",
       "</div>"
      ],
      "text/plain": [
       "   Kc_s   Yxs  abs_relerror_Yxp_hat  abs_relerror_Yxs_hat  \\\n",
       "0  0.15  1.85          2.702883e-16          2.400482e-16   \n",
       "1  0.15  1.85          3.720055e-03          1.898371e-01   \n",
       "2  0.15  1.85          1.374309e-02          5.099017e-01   \n",
       "3  0.15  1.85          4.608295e-02          1.154008e+00   \n",
       "4  0.15  1.85          1.858238e-01          2.894263e+00   \n",
       "5  0.15  1.85          8.999232e-02          2.243805e+00   \n",
       "6  0.15  1.85          4.793084e-01          3.564993e+00   \n",
       "7  0.15  1.85          4.801960e-01          2.501135e+00   \n",
       "8  0.15  1.85          4.993003e-01          2.036261e+00   \n",
       "9  0.15  1.85          5.164278e-01          1.781852e+00   \n",
       "\n",
       "   abs_relerror_mu_hat  mu0  mu_max  n_samples  product_yield_frac    s_f  \\\n",
       "0         7.917315e-08  0.1     0.3       10.0                 0.4  100.0   \n",
       "1         1.604912e-01  0.1     0.3       10.0                 0.4  100.0   \n",
       "2         3.374706e-01  0.1     0.3       10.0                 0.4  100.0   \n",
       "3         5.347180e-01  0.1     0.3       10.0                 0.4  100.0   \n",
       "4         7.574836e-01  0.1     0.3       10.0                 0.4  100.0   \n",
       "5         1.013365e+00  0.1     0.3       10.0                 0.4  100.0   \n",
       "6         1.313956e+00  0.1     0.3       10.0                 0.4  100.0   \n",
       "7         1.678260e+00  0.1     0.3       10.0                 0.4  100.0   \n",
       "8         2.140757e+00  0.1     0.3       10.0                 0.4  100.0   \n",
       "9         2.774727e+00  0.1     0.3       10.0                 0.4  100.0   \n",
       "\n",
       "   sample_volume_fraction  mu_percent_relerror  Yxp_percent_relerror  \\\n",
       "0                0.000000             0.000008          2.702883e-14   \n",
       "1                0.088889            16.049122          3.720055e-01   \n",
       "2                0.177778            33.747058          1.374309e+00   \n",
       "3                0.266667            53.471802          4.608295e+00   \n",
       "4                0.355556            75.748357          1.858238e+01   \n",
       "5                0.444444           101.336485          8.999232e+00   \n",
       "6                0.533333           131.395618          4.793084e+01   \n",
       "7                0.622222           167.826045          4.801960e+01   \n",
       "8                0.711111           214.075695          4.993003e+01   \n",
       "9                0.800000           277.472733          5.164278e+01   \n",
       "\n",
       "   Yxs_percent_relerror  \n",
       "0          2.400482e-14  \n",
       "1          1.898371e+01  \n",
       "2          5.099017e+01  \n",
       "3          1.154008e+02  \n",
       "4          2.894263e+02  \n",
       "5          2.243805e+02  \n",
       "6          3.564993e+02  \n",
       "7          2.501135e+02  \n",
       "8          2.036261e+02  \n",
       "9          1.781852e+02  "
      ]
     },
     "execution_count": 16,
     "metadata": {},
     "output_type": "execute_result"
    }
   ],
   "source": [
    "df = pd.read_csv('data/varying_sample_volume.csv')\n",
    "df['mu_percent_relerror'] = df['abs_relerror_mu_hat'] * 100\n",
    "df['Yxp_percent_relerror'] = df['abs_relerror_Yxp_hat'] * 100\n",
    "df['Yxs_percent_relerror'] = df['abs_relerror_Yxs_hat'] * 100\n",
    "df"
   ]
  },
  {
   "cell_type": "markdown",
   "metadata": {},
   "source": [
    "## What is the error when calculating the growth rate"
   ]
  },
  {
   "cell_type": "code",
   "execution_count": 21,
   "metadata": {},
   "outputs": [
    {
     "data": {
      "image/png": "[encoded data removed]",
      "text/plain": [
       "<Figure size 432x288 with 1 Axes>"
      ]
     },
     "metadata": {
      "needs_background": "light"
     },
     "output_type": "display_data"
    }
   ],
   "source": [
    "sns.scatterplot(x = 'sample_volume_fraction', y = 'mu_percent_relerror', data =df.query(\"sample_volume_fraction < 0.5\"))\n",
    "#sns.scatterplot(x = 'sample_volume_fraction', y = 'Yxs_percent_relerror', data =df)\n",
    "plt.ylabel(\"Relative error of estimate (%)\")\n",
    "plt.title(\"Growth rate\")\n",
    "plt.savefig(\"reports/figures/varying_sample_volume_fraction.png\", dpi=300)"
   ]
  },
  {
   "cell_type": "code",
   "execution_count": 21,
   "metadata": {},
   "outputs": [
    {
     "name": "stdout",
     "output_type": "stream",
     "text": [
      "                              OLS Regression Results                             \n",
      "=================================================================================\n",
      "Dep. Variable:     growth_rate_raw_error   R-squared:                       0.891\n",
      "Model:                               OLS   Adj. R-squared:                  0.885\n",
      "Method:                    Least Squares   F-statistic:                     146.8\n",
      "Date:                   Mon, 12 Sep 2022   Prob (F-statistic):           4.33e-10\n",
      "Time:                           10:55:02   Log-Likelihood:                 31.414\n",
      "No. Observations:                     20   AIC:                            -58.83\n",
      "Df Residuals:                         18   BIC:                            -56.84\n",
      "Df Model:                              1                                         \n",
      "Covariance Type:               nonrobust                                         \n",
      "==========================================================================================\n",
      "                             coef    std err          t      P>|t|      [0.025      0.975]\n",
      "------------------------------------------------------------------------------------------\n",
      "const                      0.0620      0.023      2.716      0.014       0.014       0.110\n",
      "sample_volume_fraction    -2.9456      0.243    -12.115      0.000      -3.456      -2.435\n",
      "==============================================================================\n",
      "Omnibus:                       10.578   Durbin-Watson:                   0.251\n",
      "Prob(Omnibus):                  0.005   Jarque-Bera (JB):                7.957\n",
      "Skew:                          -1.328   Prob(JB):                       0.0187\n",
      "Kurtosis:                       4.578   Cond. No.                         20.6\n",
      "==============================================================================\n",
      "\n",
      "Notes:\n",
      "[1] Standard Errors assume that the covariance matrix of the errors is correctly specified.\n"
     ]
    }
   ],
   "source": [
    "y = fitted_growth_rates['growth_rate_raw_error']\n",
    "X = sm.add_constant(fitted_growth_rates['sample_volume_fraction'])\n",
    "\n",
    "model_error = sm.OLS(endog=y, exog=X)\n",
    "res_error = model_error.fit()\n",
    "res_error.params[1]\n",
    "print(res_error.summary())"
   ]
  },
  {
   "cell_type": "markdown",
   "metadata": {},
   "source": [
    "We see that in this case the error of the estimated growth rate increase by ~0.03 of the sample volume fraction. Leading when sampling 30% of the total volume growth rate estimate will be biased by 8%."
   ]
  },
  {
   "cell_type": "markdown",
   "metadata": {},
   "source": [
    "## What is the error when calculating the glucose biomass yield"
   ]
  },
  {
   "cell_type": "code",
   "execution_count": 22,
   "metadata": {},
   "outputs": [],
   "source": [
    "grps = df_before_sample_removed.groupby('sample_volume_fraction')\n",
    "fitted_co2_yields = pd.DataFrame()\n",
    "for name, grp in grps:\n",
    "\n",
    "    ## Fitting model with corrected biomass\n",
    "    y = grp['pseudo_Biomass'].astype(float).to_numpy()\n",
    "    X = sm.add_constant(grp['pseudo_CO2']).astype(float).to_numpy()\n",
    "    \n",
    "    model_pseudo = sm.OLS(endog=y, exog=X)\n",
    "    res_pseudo = model_pseudo.fit()\n",
    "    mu_pseudo = res_pseudo.params[1]\n",
    "\n",
    "    ## Fitting model with raw biomass\n",
    "    y = grp['m_Biomass'].astype(float).to_numpy()\n",
    "    X = sm.add_constant(grp['m_CO2']).astype(float).to_numpy()\n",
    "    \n",
    "    model_raw = sm.OLS(endog=y, exog=X)\n",
    "    res_raw = model_raw.fit()\n",
    "    mu_raw = res_raw.params[1]\n",
    "\n",
    "\n",
    "    fitted_co2_yields = pd.concat([\n",
    "        fitted_co2_yields,\n",
    "        pd.DataFrame([[name, mu_pseudo, mu_raw]], columns=['sample_volume_fraction', 'co2_yield_pseudo', 'co2_yield_raw'])\n",
    "    ])"
   ]
  },
  {
   "cell_type": "code",
   "execution_count": 23,
   "metadata": {},
   "outputs": [],
   "source": [
    "# Calculate relative error\n",
    "fitted_co2_yields['co2_yield_pseudo_error'] = (fitted_co2_yields['co2_yield_pseudo'] - 0.1**(-1)) / 0.1**(-1)\n",
    "fitted_co2_yields['co2_yield_raw_error'] = (fitted_co2_yields['co2_yield_raw'] - 0.1**(-1)) / 0.1**(-1)"
   ]
  },
  {
   "cell_type": "code",
   "execution_count": 24,
   "metadata": {},
   "outputs": [
    {
     "data": {
      "text/plain": [
       "<AxesSubplot:xlabel='sample_volume_fraction', ylabel='co2_yield_pseudo_error'>"
      ]
     },
     "execution_count": 24,
     "metadata": {},
     "output_type": "execute_result"
    },
    {
     "data": {
      "image/png": "[encoded data removed]",
      "text/plain": [
       "<Figure size 432x288 with 1 Axes>"
      ]
     },
     "metadata": {
      "needs_background": "light"
     },
     "output_type": "display_data"
    }
   ],
   "source": [
    "sns.scatterplot(x = 'sample_volume_fraction', y = 'co2_yield_pseudo_error', data =fitted_co2_yields, label='Pseudo')\n",
    "sns.scatterplot(x = 'sample_volume_fraction', y = 'co2_yield_raw_error', data =fitted_co2_yields, label='Raw')\n"
   ]
  },
  {
   "cell_type": "code",
   "execution_count": null,
   "metadata": {},
   "outputs": [],
   "source": []
  }
 ],
 "metadata": {
  "kernelspec": {
   "display_name": "Python 3.8.5 ('.venv_fedbatch-data-correction': venv)",
   "language": "python",
   "name": "python3"
  },
  "language_info": {
   "codemirror_mode": {
    "name": "ipython",
    "version": 3
   },
   "file_extension": ".py",
   "mimetype": "text/x-python",
   "name": "python",
   "nbconvert_exporter": "python",
   "pygments_lexer": "ipython3",
   "version": "3.8.5"
  },
  "orig_nbformat": 4,
  "vscode": {
   "interpreter": {
    "hash": "0337f5dfa8bf2ee335f62d4679bbb5183dd2c214a8c6ed07ec0592e911fc9b16"
   }
  }
 },
 "nbformat": 4,
 "nbformat_minor": 2
}
