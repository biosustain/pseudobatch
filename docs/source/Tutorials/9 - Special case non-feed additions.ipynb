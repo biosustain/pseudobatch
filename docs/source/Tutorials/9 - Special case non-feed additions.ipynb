{
 "cells": [
  {
   "attachments": {},
   "cell_type": "markdown",
   "metadata": {},
   "source": [
    "# Special case: Non-feed additions such as anti-foam, and pH control"
   ]
  },
  {
   "attachments": {},
   "cell_type": "markdown",
   "metadata": {},
   "source": [
    "Often in bioprocessing different liquids are added to the bioreactor to stabilize or somehow affect the process. This could be anti-foam, pH control, liquid containing inducer molecules, etc. Liquids additives which does not contain any measured species are accounted for through the volume of the bioreactor.\n",
    "\n",
    "\n",
    "If we look at the pseudo batch transformation equation:\n",
    "\n",
    "$$\n",
    "c^{\\star}_{species,\\: k} = ADF_k \\cdot c_{species, \\: k} - \\sum_{j=1}^{nf} \\sum_{i=1}^{k}ADF_i\\frac{c_{species, \\: feed_{j}} \\cdot F_{i,j}}{V_i}\n",
    "$$\n",
    "\n",
    "The information about the increased volume due to other additives is included through the $ADF$ and $V_i$ parameters."
   ]
  }
 ],
 "metadata": {
  "language_info": {
   "name": "python"
  },
  "orig_nbformat": 4
 },
 "nbformat": 4,
 "nbformat_minor": 2
}
