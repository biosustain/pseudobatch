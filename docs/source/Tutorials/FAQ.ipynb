{
 "cells": [
  {
   "attachments": {},
   "cell_type": "markdown",
   "metadata": {},
   "source": [
    "# FAQs"
   ]
  },
  {
   "attachments": {},
   "cell_type": "markdown",
   "metadata": {},
   "source": [
    "## How to handle non-feed additions, such pH-control, antifoam, etc.\n",
    "Liquids additive which does not contain any measured species are accounted for through the volume of the bioreactor. This should, however, be the total volume at the time point, including the volume of other liquid additives. \n",
    "\n",
    "\n",
    "If we look at the pseudo batch transformation equation:\n",
    "\n",
    "$$\n",
    "c^{\\star}_{species,\\: k} = ADF_k \\cdot c_{species, \\: k} - \\sum_{j=1}^{nf} \\sum_{i=1}^{k}ADF_i\\frac{c_{species, \\: feed_{j}} \\cdot F_{i,j}}{V_i}\n",
    "$$\n",
    "\n",
    "For species that are not measured the $c_{species, \\: feed_{j}} = 0$ for all feeds. The information about the increased volume is included through the $ADF$ and $V_i$ parameters."
   ]
  },
  {
   "cell_type": "markdown",
   "metadata": {},
   "source": []
  }
 ],
 "metadata": {
  "language_info": {
   "name": "python"
  },
  "orig_nbformat": 4
 },
 "nbformat": 4,
 "nbformat_minor": 2
}
