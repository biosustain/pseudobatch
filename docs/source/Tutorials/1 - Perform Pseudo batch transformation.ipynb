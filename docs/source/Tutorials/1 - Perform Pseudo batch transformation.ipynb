{
 "cells": [
  {
   "attachments": {},
   "cell_type": "markdown",
   "metadata": {},
   "source": [
    "# Perform Pseudo batch transformation"
   ]
  },
  {
   "attachments": {},
   "cell_type": "markdown",
   "metadata": {},
   "source": [
    "This tutorial will show how to use the pseodo batch transformation function in python and explain the data structure of the input data."
   ]
  },
  {
   "attachments": {},
   "cell_type": "markdown",
   "metadata": {},
   "source": [
    "## Loading fedbatch data\n",
    "We will start with setting up the python session and loading the data."
   ]
  },
  {
   "cell_type": "code",
   "execution_count": 14,
   "metadata": {},
   "outputs": [],
   "source": [
    "import sys\n",
    "import os\n",
    "import matplotlib.pyplot as plt\n",
    "import pandas as pd\n",
    "import numpy as np\n",
    "\n",
    "from pseudobatch import pseudobatch_transform_pandas\n",
    "from pseudobatch.datasets import load_standard_fedbatch"
   ]
  },
  {
   "attachments": {},
   "cell_type": "markdown",
   "metadata": {},
   "source": [
    "The pseudobatch package includes few datasets of simulated data that are used to showcase the package. We will load the simplest one which is a exponential fed-batch fermentation operated in substrate limited mode."
   ]
  },
  {
   "cell_type": "code",
   "execution_count": 15,
   "metadata": {},
   "outputs": [],
   "source": [
    "fedbatch_df = load_standard_fedbatch()"
   ]
  },
  {
   "attachments": {},
   "cell_type": "markdown",
   "metadata": {},
   "source": [
    "Lets start with getting an overview of the data that we have imported by looking at a part of the dataframe."
   ]
  },
  {
   "cell_type": "code",
   "execution_count": 16,
   "metadata": {},
   "outputs": [
    {
     "data": {
      "text/html": [
       "<div>\n",
       "<style scoped>\n",
       "    .dataframe tbody tr th:only-of-type {\n",
       "        vertical-align: middle;\n",
       "    }\n",
       "\n",
       "    .dataframe tbody tr th {\n",
       "        vertical-align: top;\n",
       "    }\n",
       "\n",
       "    .dataframe thead th {\n",
       "        text-align: right;\n",
       "    }\n",
       "</style>\n",
       "<table border=\"1\" class=\"dataframe\">\n",
       "  <thead>\n",
       "    <tr style=\"text-align: right;\">\n",
       "      <th></th>\n",
       "      <th>sample_volume</th>\n",
       "      <th>timestamp</th>\n",
       "      <th>c_Biomass</th>\n",
       "      <th>c_Glucose</th>\n",
       "      <th>c_Product</th>\n",
       "      <th>v_Volume</th>\n",
       "      <th>v_Feed_accum</th>\n",
       "    </tr>\n",
       "  </thead>\n",
       "  <tbody>\n",
       "    <tr>\n",
       "      <th>162</th>\n",
       "      <td>0.0</td>\n",
       "      <td>9.72973</td>\n",
       "      <td>1.303037</td>\n",
       "      <td>0.075020</td>\n",
       "      <td>0.665867</td>\n",
       "      <td>1015.235064</td>\n",
       "      <td>15.235064</td>\n",
       "    </tr>\n",
       "    <tr>\n",
       "      <th>163</th>\n",
       "      <td>0.0</td>\n",
       "      <td>9.78979</td>\n",
       "      <td>1.310697</td>\n",
       "      <td>0.075018</td>\n",
       "      <td>0.672219</td>\n",
       "      <td>1015.382606</td>\n",
       "      <td>15.382606</td>\n",
       "    </tr>\n",
       "    <tr>\n",
       "      <th>164</th>\n",
       "      <td>0.0</td>\n",
       "      <td>9.84985</td>\n",
       "      <td>1.318401</td>\n",
       "      <td>0.075016</td>\n",
       "      <td>0.678607</td>\n",
       "      <td>1015.531036</td>\n",
       "      <td>15.531036</td>\n",
       "    </tr>\n",
       "    <tr>\n",
       "      <th>165</th>\n",
       "      <td>0.0</td>\n",
       "      <td>9.90991</td>\n",
       "      <td>1.326149</td>\n",
       "      <td>0.075014</td>\n",
       "      <td>0.685031</td>\n",
       "      <td>1015.680361</td>\n",
       "      <td>15.680361</td>\n",
       "    </tr>\n",
       "    <tr>\n",
       "      <th>166</th>\n",
       "      <td>0.0</td>\n",
       "      <td>9.96997</td>\n",
       "      <td>1.333942</td>\n",
       "      <td>0.075013</td>\n",
       "      <td>0.691493</td>\n",
       "      <td>1015.830585</td>\n",
       "      <td>15.830585</td>\n",
       "    </tr>\n",
       "    <tr>\n",
       "      <th>167</th>\n",
       "      <td>100.0</td>\n",
       "      <td>10.00000</td>\n",
       "      <td>1.337854</td>\n",
       "      <td>0.075012</td>\n",
       "      <td>0.694737</td>\n",
       "      <td>1015.906036</td>\n",
       "      <td>15.906036</td>\n",
       "    </tr>\n",
       "    <tr>\n",
       "      <th>168</th>\n",
       "      <td>0.0</td>\n",
       "      <td>10.03003</td>\n",
       "      <td>1.341779</td>\n",
       "      <td>0.075011</td>\n",
       "      <td>0.697991</td>\n",
       "      <td>915.974265</td>\n",
       "      <td>15.974265</td>\n",
       "    </tr>\n",
       "    <tr>\n",
       "      <th>169</th>\n",
       "      <td>0.0</td>\n",
       "      <td>10.09009</td>\n",
       "      <td>1.349662</td>\n",
       "      <td>0.075007</td>\n",
       "      <td>0.704528</td>\n",
       "      <td>916.111339</td>\n",
       "      <td>16.111339</td>\n",
       "    </tr>\n",
       "    <tr>\n",
       "      <th>170</th>\n",
       "      <td>0.0</td>\n",
       "      <td>10.15015</td>\n",
       "      <td>1.357591</td>\n",
       "      <td>0.075001</td>\n",
       "      <td>0.711103</td>\n",
       "      <td>916.249238</td>\n",
       "      <td>16.249238</td>\n",
       "    </tr>\n",
       "  </tbody>\n",
       "</table>\n",
       "</div>"
      ],
      "text/plain": [
       "     sample_volume  timestamp  c_Biomass  c_Glucose  c_Product     v_Volume  \\\n",
       "162            0.0    9.72973   1.303037   0.075020   0.665867  1015.235064   \n",
       "163            0.0    9.78979   1.310697   0.075018   0.672219  1015.382606   \n",
       "164            0.0    9.84985   1.318401   0.075016   0.678607  1015.531036   \n",
       "165            0.0    9.90991   1.326149   0.075014   0.685031  1015.680361   \n",
       "166            0.0    9.96997   1.333942   0.075013   0.691493  1015.830585   \n",
       "167          100.0   10.00000   1.337854   0.075012   0.694737  1015.906036   \n",
       "168            0.0   10.03003   1.341779   0.075011   0.697991   915.974265   \n",
       "169            0.0   10.09009   1.349662   0.075007   0.704528   916.111339   \n",
       "170            0.0   10.15015   1.357591   0.075001   0.711103   916.249238   \n",
       "\n",
       "     v_Feed_accum  \n",
       "162     15.235064  \n",
       "163     15.382606  \n",
       "164     15.531036  \n",
       "165     15.680361  \n",
       "166     15.830585  \n",
       "167     15.906036  \n",
       "168     15.974265  \n",
       "169     16.111339  \n",
       "170     16.249238  "
      ]
     },
     "execution_count": 16,
     "metadata": {},
     "output_type": "execute_result"
    }
   ],
   "source": [
    "(fedbatch_df\n",
    "    .query('(timestamp > 9.7) & (timestamp < 10.2)')\n",
    "    .filter(['sample_volume', 'timestamp', 'c_Biomass', 'c_Glucose', 'c_Product', 'v_Volume', 'v_Feed_accum'])\n",
    ")"
   ]
  },
  {
   "attachments": {},
   "cell_type": "markdown",
   "metadata": {},
   "source": [
    "This shows some of the columns in the dataframe. \n",
    "- `sample_volume` columns contain the sample volume at the given time point. In this dataset, we have online measurements thus more measurements than samples and therefore at most timepoint the sample volume is 0.\n",
    "- `timestamp` describe the timepoint\n",
    "- `c_Biomass`, `c_Glucose`, and `c_Product` is the online concentration measurements \n",
    "- `v_Volume` is the volume of the bioreactor. **IMPORTANT:** at points where a sample is taken this value represents the volume just **before** the sample was drawn.\n",
    "- `v_Feed_accum` is the accumulated feed added until that timepoint.\n",
    "\n",
    "This is also the data structure which the `pseudobatch_transform()` expects.\n",
    "The dataframe does contain more columns that than, what I just showed but these simply contain information about the parameters used for simulation. Some of them, e.g. true maximum growth rate, are typically not know in a real experimental setting and some of them are experimental design parameters, e.g. glucose concentration in the feed. "
   ]
  },
  {
   "attachments": {},
   "cell_type": "markdown",
   "metadata": {},
   "source": [
    "Now we can transform the data. Here I will use a convenience wrapper function that can be applied directly to a Pandas DataFrame, but under the hood this just loops over a list of columns and calls the `pseudobatch_transform()` on each of them. Apart from the data shown above we need to input the concentration of each species in the feed medium."
   ]
  },
  {
   "cell_type": "code",
   "execution_count": 17,
   "metadata": {},
   "outputs": [],
   "source": [
    "conc_in_feed = [0, 100, 0, 0] # [Biomass, Glucose, Product, CO2] in g/L\n",
    "\n",
    "fedbatch_df[[\"c_Biomass_pseudo\", \"c_Glucose_pseudo\", \"c_Product_pseudo\", \"c_CO2_pseudo\"]] = pseudobatch_transform_pandas(\n",
    "    fedbatch_df,\n",
    "    measured_concentration_colnames=[\"c_Biomass\", \"c_Glucose\", \"c_Product\", \"c_CO2\"],\n",
    "    reactor_volume_colname=\"v_Volume\",\n",
    "    accumulated_feed_colname=\"v_Feed_accum\",\n",
    "    sample_volume_colname=\"sample_volume\",\n",
    "    concentration_in_feed=conc_in_feed,\n",
    ")"
   ]
  },
  {
   "attachments": {},
   "cell_type": "markdown",
   "metadata": {},
   "source": [
    "Now we have the pseudo-batch transformed data."
   ]
  },
  {
   "cell_type": "code",
   "execution_count": 18,
   "metadata": {},
   "outputs": [
    {
     "data": {
      "text/html": [
       "<div>\n",
       "<style scoped>\n",
       "    .dataframe tbody tr th:only-of-type {\n",
       "        vertical-align: middle;\n",
       "    }\n",
       "\n",
       "    .dataframe tbody tr th {\n",
       "        vertical-align: top;\n",
       "    }\n",
       "\n",
       "    .dataframe thead th {\n",
       "        text-align: right;\n",
       "    }\n",
       "</style>\n",
       "<table border=\"1\" class=\"dataframe\">\n",
       "  <thead>\n",
       "    <tr style=\"text-align: right;\">\n",
       "      <th></th>\n",
       "      <th>timestamp</th>\n",
       "      <th>c_Biomass_pseudo</th>\n",
       "      <th>c_Glucose_pseudo</th>\n",
       "      <th>c_Product_pseudo</th>\n",
       "    </tr>\n",
       "  </thead>\n",
       "  <tbody>\n",
       "    <tr>\n",
       "      <th>0</th>\n",
       "      <td>0.00000</td>\n",
       "      <td>0.500000</td>\n",
       "      <td>0.075000</td>\n",
       "      <td>0.000000</td>\n",
       "    </tr>\n",
       "    <tr>\n",
       "      <th>1</th>\n",
       "      <td>0.06006</td>\n",
       "      <td>0.503012</td>\n",
       "      <td>0.069428</td>\n",
       "      <td>0.002474</td>\n",
       "    </tr>\n",
       "    <tr>\n",
       "      <th>2</th>\n",
       "      <td>0.12012</td>\n",
       "      <td>0.506042</td>\n",
       "      <td>0.063822</td>\n",
       "      <td>0.004964</td>\n",
       "    </tr>\n",
       "    <tr>\n",
       "      <th>3</th>\n",
       "      <td>0.18018</td>\n",
       "      <td>0.509091</td>\n",
       "      <td>0.058182</td>\n",
       "      <td>0.007468</td>\n",
       "    </tr>\n",
       "    <tr>\n",
       "      <th>4</th>\n",
       "      <td>0.24024</td>\n",
       "      <td>0.512157</td>\n",
       "      <td>0.052509</td>\n",
       "      <td>0.009987</td>\n",
       "    </tr>\n",
       "  </tbody>\n",
       "</table>\n",
       "</div>"
      ],
      "text/plain": [
       "   timestamp  c_Biomass_pseudo  c_Glucose_pseudo  c_Product_pseudo\n",
       "0    0.00000          0.500000          0.075000          0.000000\n",
       "1    0.06006          0.503012          0.069428          0.002474\n",
       "2    0.12012          0.506042          0.063822          0.004964\n",
       "3    0.18018          0.509091          0.058182          0.007468\n",
       "4    0.24024          0.512157          0.052509          0.009987"
      ]
     },
     "execution_count": 18,
     "metadata": {},
     "output_type": "execute_result"
    }
   ],
   "source": [
    "fedbatch_df.filter(['timestamp', \"c_Biomass_pseudo\", \"c_Glucose_pseudo\", \"c_Product_pseudo\"]).head()"
   ]
  },
  {
   "attachments": {},
   "cell_type": "markdown",
   "metadata": {},
   "source": [
    "We can quickly visualize the data here"
   ]
  },
  {
   "cell_type": "code",
   "execution_count": 30,
   "metadata": {},
   "outputs": [
    {
     "data": {
      "text/plain": [
       "Text(0, 0.5, 'Pseudo concentration')"
      ]
     },
     "execution_count": 30,
     "metadata": {},
     "output_type": "execute_result"
    },
    {
     "data": {
      "image/png": "[encoded data removed]",
      "text/plain": [
       "<Figure size 720x360 with 1 Axes>"
      ]
     },
     "metadata": {
      "needs_background": "light"
     },
     "output_type": "display_data"
    }
   ],
   "source": [
    "fedbatch_df.plot(x=\"timestamp\", y=[\"c_Biomass_pseudo\", \"c_Glucose_pseudo\", \"c_Product_pseudo\"], figsize=(10, 5))\n",
    "plt.ylabel(\"Pseudo concentration\")"
   ]
  },
  {
   "attachments": {},
   "cell_type": "markdown",
   "metadata": {},
   "source": [
    "In pseudo batch transformed data consumed species typically becomes negative. This simply shows that the culture have consumed more glucose than was initially present because of the feed. To make a prettier plot we can simply subtract the final pseudo batch concentration from all measurements."
   ]
  },
  {
   "cell_type": "code",
   "execution_count": 29,
   "metadata": {},
   "outputs": [
    {
     "data": {
      "text/plain": [
       "Text(0, 0.5, 'Pseudo concentration')"
      ]
     },
     "execution_count": 29,
     "metadata": {},
     "output_type": "execute_result"
    },
    {
     "data": {
      "image/png": "[encoded data removed]",
      "text/plain": [
       "<Figure size 720x360 with 1 Axes>"
      ]
     },
     "metadata": {
      "needs_background": "light"
     },
     "output_type": "display_data"
    }
   ],
   "source": [
    "fedbatch_df[\"c_Glucose_pseudo_positive\"] = fedbatch_df[\"c_Glucose_pseudo\"] - fedbatch_df[\"c_Glucose_pseudo\"].iloc[-1]\n",
    "fedbatch_df.plot(x=\"timestamp\", y=[\"c_Biomass_pseudo\", \"c_Glucose_pseudo_positive\", \"c_Product_pseudo\"], figsize=(10, 5))\n",
    "plt.ylabel(\"Pseudo concentration\")"
   ]
  },
  {
   "attachments": {},
   "cell_type": "markdown",
   "metadata": {},
   "source": [
    "Now the data also looks more like what we usually expect from a batch culture. Remember that the y-axis has the units pseudo concentration, thus it is difficult to interpret the actual values. It is safest to only interpret time evolution trends of the pseudo batch concentration data."
   ]
  },
  {
   "attachments": {},
   "cell_type": "markdown",
   "metadata": {},
   "source": [
    "## Using only measurement data"
   ]
  },
  {
   "attachments": {},
   "cell_type": "markdown",
   "metadata": {},
   "source": [
    "To make a more realistic example, we will assume that we only have measurements at the sampling time points. Therefore we create a dataframe which contains these measurement data only."
   ]
  },
  {
   "cell_type": "code",
   "execution_count": 21,
   "metadata": {},
   "outputs": [],
   "source": [
    "fedbatch_df_measurement = fedbatch_df.query(\"sample_volume > 0\").copy().reset_index(drop=True)"
   ]
  },
  {
   "attachments": {},
   "cell_type": "markdown",
   "metadata": {},
   "source": [
    "The dataframe that only have measurements at the sampling points, looks as follows:"
   ]
  },
  {
   "cell_type": "code",
   "execution_count": 22,
   "metadata": {},
   "outputs": [
    {
     "data": {
      "text/html": [
       "<div>\n",
       "<style scoped>\n",
       "    .dataframe tbody tr th:only-of-type {\n",
       "        vertical-align: middle;\n",
       "    }\n",
       "\n",
       "    .dataframe tbody tr th {\n",
       "        vertical-align: top;\n",
       "    }\n",
       "\n",
       "    .dataframe thead th {\n",
       "        text-align: right;\n",
       "    }\n",
       "</style>\n",
       "<table border=\"1\" class=\"dataframe\">\n",
       "  <thead>\n",
       "    <tr style=\"text-align: right;\">\n",
       "      <th></th>\n",
       "      <th>sample_volume</th>\n",
       "      <th>timestamp</th>\n",
       "      <th>c_Biomass</th>\n",
       "      <th>c_Glucose</th>\n",
       "      <th>c_Product</th>\n",
       "      <th>v_Volume</th>\n",
       "      <th>v_Feed_accum</th>\n",
       "    </tr>\n",
       "  </thead>\n",
       "  <tbody>\n",
       "    <tr>\n",
       "      <th>0</th>\n",
       "      <td>100.0</td>\n",
       "      <td>10.000000</td>\n",
       "      <td>1.337854</td>\n",
       "      <td>0.075012</td>\n",
       "      <td>0.694737</td>\n",
       "      <td>1015.906036</td>\n",
       "      <td>15.906036</td>\n",
       "    </tr>\n",
       "    <tr>\n",
       "      <th>1</th>\n",
       "      <td>100.0</td>\n",
       "      <td>14.545455</td>\n",
       "      <td>2.078116</td>\n",
       "      <td>0.075010</td>\n",
       "      <td>1.308552</td>\n",
       "      <td>928.960902</td>\n",
       "      <td>28.960902</td>\n",
       "    </tr>\n",
       "    <tr>\n",
       "      <th>2</th>\n",
       "      <td>100.0</td>\n",
       "      <td>19.090909</td>\n",
       "      <td>3.203015</td>\n",
       "      <td>0.075111</td>\n",
       "      <td>2.241303</td>\n",
       "      <td>847.314262</td>\n",
       "      <td>47.314262</td>\n",
       "    </tr>\n",
       "    <tr>\n",
       "      <th>3</th>\n",
       "      <td>100.0</td>\n",
       "      <td>23.636364</td>\n",
       "      <td>4.879772</td>\n",
       "      <td>0.075020</td>\n",
       "      <td>3.631646</td>\n",
       "      <td>772.816654</td>\n",
       "      <td>72.816654</td>\n",
       "    </tr>\n",
       "    <tr>\n",
       "      <th>4</th>\n",
       "      <td>100.0</td>\n",
       "      <td>28.181818</td>\n",
       "      <td>7.307921</td>\n",
       "      <td>0.075064</td>\n",
       "      <td>5.645033</td>\n",
       "      <td>707.795685</td>\n",
       "      <td>107.795685</td>\n",
       "    </tr>\n",
       "    <tr>\n",
       "      <th>5</th>\n",
       "      <td>100.0</td>\n",
       "      <td>32.727273</td>\n",
       "      <td>10.681703</td>\n",
       "      <td>0.075010</td>\n",
       "      <td>8.442525</td>\n",
       "      <td>655.117789</td>\n",
       "      <td>155.117789</td>\n",
       "    </tr>\n",
       "    <tr>\n",
       "      <th>6</th>\n",
       "      <td>100.0</td>\n",
       "      <td>37.272727</td>\n",
       "      <td>15.109112</td>\n",
       "      <td>0.075015</td>\n",
       "      <td>12.113671</td>\n",
       "      <td>618.291500</td>\n",
       "      <td>218.291500</td>\n",
       "    </tr>\n",
       "    <tr>\n",
       "      <th>7</th>\n",
       "      <td>100.0</td>\n",
       "      <td>41.818182</td>\n",
       "      <td>20.503292</td>\n",
       "      <td>0.075044</td>\n",
       "      <td>16.586449</td>\n",
       "      <td>601.721795</td>\n",
       "      <td>301.721795</td>\n",
       "    </tr>\n",
       "    <tr>\n",
       "      <th>8</th>\n",
       "      <td>100.0</td>\n",
       "      <td>46.363636</td>\n",
       "      <td>26.510976</td>\n",
       "      <td>0.075043</td>\n",
       "      <td>21.567936</td>\n",
       "      <td>611.318523</td>\n",
       "      <td>411.318523</td>\n",
       "    </tr>\n",
       "    <tr>\n",
       "      <th>9</th>\n",
       "      <td>100.0</td>\n",
       "      <td>50.909091</td>\n",
       "      <td>32.568141</td>\n",
       "      <td>0.075049</td>\n",
       "      <td>26.590453</td>\n",
       "      <td>655.738790</td>\n",
       "      <td>555.738790</td>\n",
       "    </tr>\n",
       "    <tr>\n",
       "      <th>10</th>\n",
       "      <td>100.0</td>\n",
       "      <td>55.454545</td>\n",
       "      <td>38.092445</td>\n",
       "      <td>0.075009</td>\n",
       "      <td>31.171129</td>\n",
       "      <td>748.568771</td>\n",
       "      <td>748.568771</td>\n",
       "    </tr>\n",
       "    <tr>\n",
       "      <th>11</th>\n",
       "      <td>100.0</td>\n",
       "      <td>60.000000</td>\n",
       "      <td>42.688520</td>\n",
       "      <td>0.075012</td>\n",
       "      <td>34.982129</td>\n",
       "      <td>911.780642</td>\n",
       "      <td>1011.780642</td>\n",
       "    </tr>\n",
       "  </tbody>\n",
       "</table>\n",
       "</div>"
      ],
      "text/plain": [
       "    sample_volume  timestamp  c_Biomass  c_Glucose  c_Product     v_Volume  \\\n",
       "0           100.0  10.000000   1.337854   0.075012   0.694737  1015.906036   \n",
       "1           100.0  14.545455   2.078116   0.075010   1.308552   928.960902   \n",
       "2           100.0  19.090909   3.203015   0.075111   2.241303   847.314262   \n",
       "3           100.0  23.636364   4.879772   0.075020   3.631646   772.816654   \n",
       "4           100.0  28.181818   7.307921   0.075064   5.645033   707.795685   \n",
       "5           100.0  32.727273  10.681703   0.075010   8.442525   655.117789   \n",
       "6           100.0  37.272727  15.109112   0.075015  12.113671   618.291500   \n",
       "7           100.0  41.818182  20.503292   0.075044  16.586449   601.721795   \n",
       "8           100.0  46.363636  26.510976   0.075043  21.567936   611.318523   \n",
       "9           100.0  50.909091  32.568141   0.075049  26.590453   655.738790   \n",
       "10          100.0  55.454545  38.092445   0.075009  31.171129   748.568771   \n",
       "11          100.0  60.000000  42.688520   0.075012  34.982129   911.780642   \n",
       "\n",
       "    v_Feed_accum  \n",
       "0      15.906036  \n",
       "1      28.960902  \n",
       "2      47.314262  \n",
       "3      72.816654  \n",
       "4     107.795685  \n",
       "5     155.117789  \n",
       "6     218.291500  \n",
       "7     301.721795  \n",
       "8     411.318523  \n",
       "9     555.738790  \n",
       "10    748.568771  \n",
       "11   1011.780642  "
      ]
     },
     "execution_count": 22,
     "metadata": {},
     "output_type": "execute_result"
    }
   ],
   "source": [
    "(fedbatch_df_measurement\n",
    "    .filter(['sample_volume', 'timestamp', 'c_Biomass', 'c_Glucose', 'c_Product', 'v_Volume', 'v_Feed_accum'])\n",
    ")"
   ]
  },
  {
   "attachments": {},
   "cell_type": "markdown",
   "metadata": {},
   "source": [
    "The procedure for the pseudo batch transformation is exactly the same"
   ]
  },
  {
   "cell_type": "code",
   "execution_count": 23,
   "metadata": {},
   "outputs": [],
   "source": [
    "conc_in_feed = [0, 100, 0, 0] # [Biomass, Glucose, Product, CO2] in g/L\n",
    "\n",
    "fedbatch_df_measurement[[\"c_Biomass_pseudo\", \"c_Glucose_pseudo\", \"c_Product_pseudo\", \"c_CO2_pseudo\"]] = pseudobatch_transform_pandas(\n",
    "    fedbatch_df_measurement,\n",
    "    measured_concentration_colnames=[\"c_Biomass\", \"c_Glucose\", \"c_Product\", \"c_CO2\"],\n",
    "    reactor_volume_colname=\"v_Volume\",\n",
    "    accumulated_feed_colname=\"v_Feed_accum\",\n",
    "    sample_volume_colname=\"sample_volume\",\n",
    "    concentration_in_feed=conc_in_feed,\n",
    ")"
   ]
  },
  {
   "cell_type": "code",
   "execution_count": 24,
   "metadata": {},
   "outputs": [
    {
     "data": {
      "text/plain": [
       "<AxesSubplot:xlabel='timestamp'>"
      ]
     },
     "execution_count": 24,
     "metadata": {},
     "output_type": "execute_result"
    },
    {
     "data": {
      "image/png": "[encoded data removed]",
      "text/plain": [
       "<Figure size 720x360 with 1 Axes>"
      ]
     },
     "metadata": {
      "needs_background": "light"
     },
     "output_type": "display_data"
    }
   ],
   "source": [
    "fedbatch_df_measurement.plot(x=\"timestamp\", y=[\"c_Biomass_pseudo\", \"c_Glucose_pseudo\", \"c_Product_pseudo\"], figsize=(10, 5), style=\"o\")"
   ]
  },
  {
   "attachments": {},
   "cell_type": "markdown",
   "metadata": {},
   "source": [
    "This tutorial only shows how to use the pseudo batch transformation. Continue to the next tutorials to see examples of how to integrate the pseudo batch transformation into regular cell cultivation workflows."
   ]
  },
  {
   "cell_type": "markdown",
   "metadata": {},
   "source": []
  }
 ],
 "metadata": {
  "kernelspec": {
   "display_name": "Python 3.8.5 ('.venv_fedbatch-data-correction': venv)",
   "language": "python",
   "name": "python3"
  },
  "language_info": {
   "codemirror_mode": {
    "name": "ipython",
    "version": 3
   },
   "file_extension": ".py",
   "mimetype": "text/x-python",
   "name": "python",
   "nbconvert_exporter": "python",
   "pygments_lexer": "ipython3",
   "version": "3.10.8"
  },
  "orig_nbformat": 4,
  "vscode": {
   "interpreter": {
    "hash": "0337f5dfa8bf2ee335f62d4679bbb5183dd2c214a8c6ed07ec0592e911fc9b16"
   }
  }
 },
 "nbformat": 4,
 "nbformat_minor": 2
}
