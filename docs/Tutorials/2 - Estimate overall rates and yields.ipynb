{
 "cells": [
  {
   "attachments": {},
   "cell_type": "markdown",
   "metadata": {},
   "source": [
    "# Estimating overall rates and yields from pseudo batch transformed data"
   ]
  },
  {
   "attachments": {},
   "cell_type": "markdown",
   "metadata": {},
   "source": [
    "This tutorial will show how to use the fedbatch data correction package to calculate rates and yields from measurements. We will use simulated data to showcase the workflow. The simulated data here resembles a system where online measurements are available. This could for example to the Satorious AMBR(R) or M2Lab Bio/Robolector cultivation systems."
   ]
  },
  {
   "cell_type": "markdown",
   "metadata": {},
   "source": [
    "## loading fedbatch data"
   ]
  },
  {
   "cell_type": "code",
   "execution_count": 1,
   "metadata": {},
   "outputs": [],
   "source": [
    "import sys\n",
    "import os\n",
    "import matplotlib.pyplot as plt\n",
    "import pandas as pd\n",
    "import numpy as np\n",
    "import seaborn as sns\n",
    "from patsy import dmatrices\n",
    "import statsmodels.api as sm\n",
    "import dotenv\n",
    "\n",
    "os.chdir(dotenv.find_dotenv().replace(\".env\", \"\"))\n",
    "from src.data_correction import pseudobatch_transform_pandas"
   ]
  },
  {
   "cell_type": "code",
   "execution_count": 2,
   "metadata": {},
   "outputs": [],
   "source": [
    "fedbatch_file = os.path.join(\"simulated_data\", \"standard_fed-batch_process.csv\")\n",
    "# At the sampling time the simulation contains a value both before and after the sample was taken.\n",
    "# When I load the data I keep only the first value, which is the value before the sample was taken.\n",
    "fedbatch_df = (pd.read_csv(fedbatch_file)\n",
    "    .drop_duplicates(subset='timestamp', keep='first')\n",
    "    .reset_index(drop=True) # Reset the index to avoid gaps in index numbers from removed rows.\n",
    "    .fillna({'sample_volume': 0}) # Fill the sample volume column with 0 when no sample was taken.\n",
    ")"
   ]
  },
  {
   "attachments": {},
   "cell_type": "markdown",
   "metadata": {},
   "source": [
    "Lets start with getting an overview of the data that we have imported by look at a part of the dataframe."
   ]
  },
  {
   "cell_type": "code",
   "execution_count": 3,
   "metadata": {},
   "outputs": [
    {
     "data": {
      "text/html": [
       "<div>\n",
       "<style scoped>\n",
       "    .dataframe tbody tr th:only-of-type {\n",
       "        vertical-align: middle;\n",
       "    }\n",
       "\n",
       "    .dataframe tbody tr th {\n",
       "        vertical-align: top;\n",
       "    }\n",
       "\n",
       "    .dataframe thead th {\n",
       "        text-align: right;\n",
       "    }\n",
       "</style>\n",
       "<table border=\"1\" class=\"dataframe\">\n",
       "  <thead>\n",
       "    <tr style=\"text-align: right;\">\n",
       "      <th></th>\n",
       "      <th>sample_volume</th>\n",
       "      <th>timestamp</th>\n",
       "      <th>c_Biomass</th>\n",
       "      <th>c_Glucose</th>\n",
       "      <th>c_Product</th>\n",
       "      <th>v_Volume</th>\n",
       "      <th>v_Feed_accum</th>\n",
       "      <th>m_Biomass</th>\n",
       "      <th>m_Glucose</th>\n",
       "      <th>m_Product</th>\n",
       "    </tr>\n",
       "  </thead>\n",
       "  <tbody>\n",
       "    <tr>\n",
       "      <th>162</th>\n",
       "      <td>0.0</td>\n",
       "      <td>9.72973</td>\n",
       "      <td>1.303037</td>\n",
       "      <td>0.075020</td>\n",
       "      <td>0.665867</td>\n",
       "      <td>1015.235064</td>\n",
       "      <td>15.235064</td>\n",
       "      <td>1322.888478</td>\n",
       "      <td>76.162711</td>\n",
       "      <td>676.011317</td>\n",
       "    </tr>\n",
       "    <tr>\n",
       "      <th>163</th>\n",
       "      <td>0.0</td>\n",
       "      <td>9.78979</td>\n",
       "      <td>1.310697</td>\n",
       "      <td>0.075018</td>\n",
       "      <td>0.672219</td>\n",
       "      <td>1015.382606</td>\n",
       "      <td>15.382606</td>\n",
       "      <td>1330.858927</td>\n",
       "      <td>76.171557</td>\n",
       "      <td>682.559122</td>\n",
       "    </tr>\n",
       "    <tr>\n",
       "      <th>164</th>\n",
       "      <td>0.0</td>\n",
       "      <td>9.84985</td>\n",
       "      <td>1.318401</td>\n",
       "      <td>0.075016</td>\n",
       "      <td>0.678607</td>\n",
       "      <td>1015.531036</td>\n",
       "      <td>15.531036</td>\n",
       "      <td>1338.877205</td>\n",
       "      <td>76.180800</td>\n",
       "      <td>689.146219</td>\n",
       "    </tr>\n",
       "    <tr>\n",
       "      <th>165</th>\n",
       "      <td>0.0</td>\n",
       "      <td>9.90991</td>\n",
       "      <td>1.326149</td>\n",
       "      <td>0.075014</td>\n",
       "      <td>0.685031</td>\n",
       "      <td>1015.680361</td>\n",
       "      <td>15.680361</td>\n",
       "      <td>1346.943649</td>\n",
       "      <td>76.190352</td>\n",
       "      <td>695.772886</td>\n",
       "    </tr>\n",
       "    <tr>\n",
       "      <th>166</th>\n",
       "      <td>0.0</td>\n",
       "      <td>9.96997</td>\n",
       "      <td>1.333942</td>\n",
       "      <td>0.075013</td>\n",
       "      <td>0.691493</td>\n",
       "      <td>1015.830585</td>\n",
       "      <td>15.830585</td>\n",
       "      <td>1355.058610</td>\n",
       "      <td>76.200099</td>\n",
       "      <td>702.439410</td>\n",
       "    </tr>\n",
       "    <tr>\n",
       "      <th>167</th>\n",
       "      <td>100.0</td>\n",
       "      <td>10.00000</td>\n",
       "      <td>1.337854</td>\n",
       "      <td>0.075012</td>\n",
       "      <td>0.694737</td>\n",
       "      <td>1015.906036</td>\n",
       "      <td>15.906036</td>\n",
       "      <td>1359.134400</td>\n",
       "      <td>76.205005</td>\n",
       "      <td>705.787712</td>\n",
       "    </tr>\n",
       "    <tr>\n",
       "      <th>168</th>\n",
       "      <td>0.0</td>\n",
       "      <td>10.03003</td>\n",
       "      <td>1.341779</td>\n",
       "      <td>0.075011</td>\n",
       "      <td>0.697991</td>\n",
       "      <td>915.974265</td>\n",
       "      <td>15.974265</td>\n",
       "      <td>1229.034797</td>\n",
       "      <td>68.707889</td>\n",
       "      <td>639.341949</td>\n",
       "    </tr>\n",
       "    <tr>\n",
       "      <th>169</th>\n",
       "      <td>0.0</td>\n",
       "      <td>10.09009</td>\n",
       "      <td>1.349662</td>\n",
       "      <td>0.075007</td>\n",
       "      <td>0.704528</td>\n",
       "      <td>916.111339</td>\n",
       "      <td>16.111339</td>\n",
       "      <td>1236.440707</td>\n",
       "      <td>68.714328</td>\n",
       "      <td>645.425980</td>\n",
       "    </tr>\n",
       "    <tr>\n",
       "      <th>170</th>\n",
       "      <td>0.0</td>\n",
       "      <td>10.15015</td>\n",
       "      <td>1.357591</td>\n",
       "      <td>0.075001</td>\n",
       "      <td>0.711103</td>\n",
       "      <td>916.249238</td>\n",
       "      <td>16.249238</td>\n",
       "      <td>1243.892012</td>\n",
       "      <td>68.719362</td>\n",
       "      <td>651.547303</td>\n",
       "    </tr>\n",
       "  </tbody>\n",
       "</table>\n",
       "</div>"
      ],
      "text/plain": [
       "     sample_volume  timestamp  c_Biomass  c_Glucose  c_Product     v_Volume  \\\n",
       "162            0.0    9.72973   1.303037   0.075020   0.665867  1015.235064   \n",
       "163            0.0    9.78979   1.310697   0.075018   0.672219  1015.382606   \n",
       "164            0.0    9.84985   1.318401   0.075016   0.678607  1015.531036   \n",
       "165            0.0    9.90991   1.326149   0.075014   0.685031  1015.680361   \n",
       "166            0.0    9.96997   1.333942   0.075013   0.691493  1015.830585   \n",
       "167          100.0   10.00000   1.337854   0.075012   0.694737  1015.906036   \n",
       "168            0.0   10.03003   1.341779   0.075011   0.697991   915.974265   \n",
       "169            0.0   10.09009   1.349662   0.075007   0.704528   916.111339   \n",
       "170            0.0   10.15015   1.357591   0.075001   0.711103   916.249238   \n",
       "\n",
       "     v_Feed_accum    m_Biomass  m_Glucose   m_Product  \n",
       "162     15.235064  1322.888478  76.162711  676.011317  \n",
       "163     15.382606  1330.858927  76.171557  682.559122  \n",
       "164     15.531036  1338.877205  76.180800  689.146219  \n",
       "165     15.680361  1346.943649  76.190352  695.772886  \n",
       "166     15.830585  1355.058610  76.200099  702.439410  \n",
       "167     15.906036  1359.134400  76.205005  705.787712  \n",
       "168     15.974265  1229.034797  68.707889  639.341949  \n",
       "169     16.111339  1236.440707  68.714328  645.425980  \n",
       "170     16.249238  1243.892012  68.719362  651.547303  "
      ]
     },
     "execution_count": 3,
     "metadata": {},
     "output_type": "execute_result"
    }
   ],
   "source": [
    "(fedbatch_df\n",
    "    .query('(timestamp > 9.7) & (timestamp < 10.2)')\n",
    "    .filter(['sample_volume', 'timestamp', 'c_Biomass', 'c_Glucose', 'c_Product', 'v_Volume', 'v_Feed_accum', 'm_Biomass', 'm_Glucose', 'm_Product',])\n",
    ")"
   ]
  },
  {
   "attachments": {},
   "cell_type": "markdown",
   "metadata": {},
   "source": [
    "This shows some of the columns in the dataframe. \n",
    "- `sample_volume` columns contain the sample volume at the given time point. In this dataset, we have online measurements thus more measurements than samples and therefore at most timepoint the sample volume is 0.\n",
    "- `timestamp` describe the timepoint\n",
    "- `c_Biomass`, `c_Glucose`, and `c_Product` is the online concentration measurements \n",
    "- `v_Volume` is the volume of the bioreactor. **IMPORTANT:** at points where a sample is taken this value represents the volume just **before** the sample was drawn.\n",
    "- `v_Feed_accum` is the accumulated feed added until that timepoint.\n",
    "- `m_Biomass`, `m_Glucose`, `m_Product` is the total mass of that species in the reactor, i.e. volume * concentration\n",
    "\n",
    "The dataframe does contain more columns than those shown, but these simply contain information about the parameters used for simulation. Some of them, e.g. true maximum growth rate, are typically not know in a real experimental setting and some of them are experimental design parameters, e.g. glucose concentration in the feed. For clarity, we will just print them here:"
   ]
  },
  {
   "cell_type": "code",
   "execution_count": 4,
   "metadata": {},
   "outputs": [
    {
     "name": "stdout",
     "output_type": "stream",
     "text": [
      "Index(['Kc_s', 'mu_max', 'Yxs', 'Yxp', 'Yxco2', 'F0', 'mu0', 's_f',\n",
      "       'sample_volume', 'timestamp', 'm_Glucose', 'm_Biomass', 'm_Product',\n",
      "       'm_CO2', 'v_Volume', 'v_Feed_accum', 'c_Glucose', 'c_Biomass',\n",
      "       'c_Product', 'c_CO2', 'mu_true'],\n",
      "      dtype='object')\n"
     ]
    }
   ],
   "source": [
    "print(fedbatch_df.columns)"
   ]
  },
  {
   "attachments": {},
   "cell_type": "markdown",
   "metadata": {},
   "source": [
    "Most often we are not interested in the mass of substrate in the medium, but rather we are interested in the accumulated consumed substrate at any given timepoint. We will calculate this before moving on."
   ]
  },
  {
   "cell_type": "code",
   "execution_count": 5,
   "metadata": {},
   "outputs": [],
   "source": [
    "def consumed_substrate(concentration_in_feed, accumulated_feed_volume, measured_substrate_mass, initial_substrate_mass):\n",
    "    return initial_substrate_mass + accumulated_feed_volume * concentration_in_feed - measured_substrate_mass\n",
    "\n",
    "glucose_in_feed = fedbatch_df.s_f.iloc[0] # 100 g/L, substrate (glucose) concentration in feed is store in the dataframe \n",
    "\n",
    "fedbatch_df['m_Glucose_consumed'] = consumed_substrate(\n",
    "    concentration_in_feed=glucose_in_feed,\n",
    "    accumulated_feed_volume=fedbatch_df['v_Feed_accum'],\n",
    "    measured_substrate_mass=fedbatch_df['m_Glucose'],\n",
    "    initial_substrate_mass=0\n",
    ")"
   ]
  },
  {
   "attachments": {},
   "cell_type": "markdown",
   "metadata": {},
   "source": [
    "To make a more realistic example, we will assume that we only have measurements at the sampling time points. Therefore we create a dataframe which contains these measurement data only."
   ]
  },
  {
   "cell_type": "code",
   "execution_count": 6,
   "metadata": {},
   "outputs": [],
   "source": [
    "fedbatch_df_measurement = fedbatch_df.query(\"sample_volume > 0\").copy().reset_index(drop=True)"
   ]
  },
  {
   "attachments": {},
   "cell_type": "markdown",
   "metadata": {},
   "source": [
    "The dataframe that only have measurements at the sampling points, looks as follows:"
   ]
  },
  {
   "cell_type": "code",
   "execution_count": 7,
   "metadata": {},
   "outputs": [
    {
     "data": {
      "text/html": [
       "<div>\n",
       "<style scoped>\n",
       "    .dataframe tbody tr th:only-of-type {\n",
       "        vertical-align: middle;\n",
       "    }\n",
       "\n",
       "    .dataframe tbody tr th {\n",
       "        vertical-align: top;\n",
       "    }\n",
       "\n",
       "    .dataframe thead th {\n",
       "        text-align: right;\n",
       "    }\n",
       "</style>\n",
       "<table border=\"1\" class=\"dataframe\">\n",
       "  <thead>\n",
       "    <tr style=\"text-align: right;\">\n",
       "      <th></th>\n",
       "      <th>sample_volume</th>\n",
       "      <th>timestamp</th>\n",
       "      <th>c_Biomass</th>\n",
       "      <th>c_Glucose</th>\n",
       "      <th>c_Product</th>\n",
       "      <th>v_Volume</th>\n",
       "      <th>v_Feed_accum</th>\n",
       "      <th>m_Biomass</th>\n",
       "      <th>m_Glucose</th>\n",
       "      <th>m_Product</th>\n",
       "    </tr>\n",
       "  </thead>\n",
       "  <tbody>\n",
       "    <tr>\n",
       "      <th>0</th>\n",
       "      <td>100.0</td>\n",
       "      <td>10.000000</td>\n",
       "      <td>1.337854</td>\n",
       "      <td>0.075012</td>\n",
       "      <td>0.694737</td>\n",
       "      <td>1015.906036</td>\n",
       "      <td>15.906036</td>\n",
       "      <td>1359.134400</td>\n",
       "      <td>76.205005</td>\n",
       "      <td>705.787712</td>\n",
       "    </tr>\n",
       "    <tr>\n",
       "      <th>1</th>\n",
       "      <td>100.0</td>\n",
       "      <td>14.545455</td>\n",
       "      <td>2.078116</td>\n",
       "      <td>0.075010</td>\n",
       "      <td>1.308552</td>\n",
       "      <td>928.960902</td>\n",
       "      <td>28.960902</td>\n",
       "      <td>1930.488955</td>\n",
       "      <td>69.681345</td>\n",
       "      <td>1215.593727</td>\n",
       "    </tr>\n",
       "    <tr>\n",
       "      <th>2</th>\n",
       "      <td>100.0</td>\n",
       "      <td>19.090909</td>\n",
       "      <td>3.203015</td>\n",
       "      <td>0.075111</td>\n",
       "      <td>2.241303</td>\n",
       "      <td>847.314262</td>\n",
       "      <td>47.314262</td>\n",
       "      <td>2713.960332</td>\n",
       "      <td>63.642770</td>\n",
       "      <td>1899.087680</td>\n",
       "    </tr>\n",
       "    <tr>\n",
       "      <th>3</th>\n",
       "      <td>100.0</td>\n",
       "      <td>23.636364</td>\n",
       "      <td>4.879772</td>\n",
       "      <td>0.075020</td>\n",
       "      <td>3.631646</td>\n",
       "      <td>772.816654</td>\n",
       "      <td>72.816654</td>\n",
       "      <td>3771.169156</td>\n",
       "      <td>57.976787</td>\n",
       "      <td>2806.596268</td>\n",
       "    </tr>\n",
       "    <tr>\n",
       "      <th>4</th>\n",
       "      <td>100.0</td>\n",
       "      <td>28.181818</td>\n",
       "      <td>7.307921</td>\n",
       "      <td>0.075064</td>\n",
       "      <td>5.645033</td>\n",
       "      <td>707.795685</td>\n",
       "      <td>107.795685</td>\n",
       "      <td>5172.515230</td>\n",
       "      <td>53.129746</td>\n",
       "      <td>3995.530138</td>\n",
       "    </tr>\n",
       "    <tr>\n",
       "      <th>5</th>\n",
       "      <td>100.0</td>\n",
       "      <td>32.727273</td>\n",
       "      <td>10.681703</td>\n",
       "      <td>0.075010</td>\n",
       "      <td>8.442525</td>\n",
       "      <td>655.117789</td>\n",
       "      <td>155.117789</td>\n",
       "      <td>6997.773538</td>\n",
       "      <td>49.140520</td>\n",
       "      <td>5530.848452</td>\n",
       "    </tr>\n",
       "    <tr>\n",
       "      <th>6</th>\n",
       "      <td>100.0</td>\n",
       "      <td>37.272727</td>\n",
       "      <td>15.109112</td>\n",
       "      <td>0.075015</td>\n",
       "      <td>12.113671</td>\n",
       "      <td>618.291500</td>\n",
       "      <td>218.291500</td>\n",
       "      <td>9341.835286</td>\n",
       "      <td>46.381315</td>\n",
       "      <td>7489.779507</td>\n",
       "    </tr>\n",
       "    <tr>\n",
       "      <th>7</th>\n",
       "      <td>100.0</td>\n",
       "      <td>41.818182</td>\n",
       "      <td>20.503292</td>\n",
       "      <td>0.075044</td>\n",
       "      <td>16.586449</td>\n",
       "      <td>601.721795</td>\n",
       "      <td>301.721795</td>\n",
       "      <td>12337.277587</td>\n",
       "      <td>45.155402</td>\n",
       "      <td>9980.428002</td>\n",
       "    </tr>\n",
       "    <tr>\n",
       "      <th>8</th>\n",
       "      <td>100.0</td>\n",
       "      <td>46.363636</td>\n",
       "      <td>26.510976</td>\n",
       "      <td>0.075043</td>\n",
       "      <td>21.567936</td>\n",
       "      <td>611.318523</td>\n",
       "      <td>411.318523</td>\n",
       "      <td>16206.650417</td>\n",
       "      <td>45.875096</td>\n",
       "      <td>13184.878944</td>\n",
       "    </tr>\n",
       "    <tr>\n",
       "      <th>9</th>\n",
       "      <td>100.0</td>\n",
       "      <td>50.909091</td>\n",
       "      <td>32.568141</td>\n",
       "      <td>0.075049</td>\n",
       "      <td>26.590453</td>\n",
       "      <td>655.738790</td>\n",
       "      <td>555.738790</td>\n",
       "      <td>21356.193361</td>\n",
       "      <td>49.212516</td>\n",
       "      <td>17436.391417</td>\n",
       "    </tr>\n",
       "    <tr>\n",
       "      <th>10</th>\n",
       "      <td>100.0</td>\n",
       "      <td>55.454545</td>\n",
       "      <td>38.092445</td>\n",
       "      <td>0.075009</td>\n",
       "      <td>31.171129</td>\n",
       "      <td>748.568771</td>\n",
       "      <td>748.568771</td>\n",
       "      <td>28514.815111</td>\n",
       "      <td>56.149473</td>\n",
       "      <td>23333.733399</td>\n",
       "    </tr>\n",
       "    <tr>\n",
       "      <th>11</th>\n",
       "      <td>100.0</td>\n",
       "      <td>60.000000</td>\n",
       "      <td>42.688520</td>\n",
       "      <td>0.075012</td>\n",
       "      <td>34.982129</td>\n",
       "      <td>911.780642</td>\n",
       "      <td>1011.780642</td>\n",
       "      <td>38922.565896</td>\n",
       "      <td>68.394221</td>\n",
       "      <td>31896.027887</td>\n",
       "    </tr>\n",
       "  </tbody>\n",
       "</table>\n",
       "</div>"
      ],
      "text/plain": [
       "    sample_volume  timestamp  c_Biomass  c_Glucose  c_Product     v_Volume  \\\n",
       "0           100.0  10.000000   1.337854   0.075012   0.694737  1015.906036   \n",
       "1           100.0  14.545455   2.078116   0.075010   1.308552   928.960902   \n",
       "2           100.0  19.090909   3.203015   0.075111   2.241303   847.314262   \n",
       "3           100.0  23.636364   4.879772   0.075020   3.631646   772.816654   \n",
       "4           100.0  28.181818   7.307921   0.075064   5.645033   707.795685   \n",
       "5           100.0  32.727273  10.681703   0.075010   8.442525   655.117789   \n",
       "6           100.0  37.272727  15.109112   0.075015  12.113671   618.291500   \n",
       "7           100.0  41.818182  20.503292   0.075044  16.586449   601.721795   \n",
       "8           100.0  46.363636  26.510976   0.075043  21.567936   611.318523   \n",
       "9           100.0  50.909091  32.568141   0.075049  26.590453   655.738790   \n",
       "10          100.0  55.454545  38.092445   0.075009  31.171129   748.568771   \n",
       "11          100.0  60.000000  42.688520   0.075012  34.982129   911.780642   \n",
       "\n",
       "    v_Feed_accum     m_Biomass  m_Glucose     m_Product  \n",
       "0      15.906036   1359.134400  76.205005    705.787712  \n",
       "1      28.960902   1930.488955  69.681345   1215.593727  \n",
       "2      47.314262   2713.960332  63.642770   1899.087680  \n",
       "3      72.816654   3771.169156  57.976787   2806.596268  \n",
       "4     107.795685   5172.515230  53.129746   3995.530138  \n",
       "5     155.117789   6997.773538  49.140520   5530.848452  \n",
       "6     218.291500   9341.835286  46.381315   7489.779507  \n",
       "7     301.721795  12337.277587  45.155402   9980.428002  \n",
       "8     411.318523  16206.650417  45.875096  13184.878944  \n",
       "9     555.738790  21356.193361  49.212516  17436.391417  \n",
       "10    748.568771  28514.815111  56.149473  23333.733399  \n",
       "11   1011.780642  38922.565896  68.394221  31896.027887  "
      ]
     },
     "execution_count": 7,
     "metadata": {},
     "output_type": "execute_result"
    }
   ],
   "source": [
    "(fedbatch_df_measurement\n",
    "    .filter(['sample_volume', 'timestamp', 'c_Biomass', 'c_Glucose', 'c_Product', 'v_Volume', 'v_Feed_accum', 'm_Biomass', 'm_Glucose', 'm_Product',])\n",
    ")"
   ]
  },
  {
   "attachments": {},
   "cell_type": "markdown",
   "metadata": {},
   "source": [
    "### Overview of the simulation\n",
    "First let's have a look at the simulated data. Columns starting with m_, c_, and v_ describes mass', concentrations and volumes, respectively."
   ]
  },
  {
   "cell_type": "code",
   "execution_count": 8,
   "metadata": {},
   "outputs": [
    {
     "data": {
      "image/png": "[encoded data removed]",
      "text/plain": [
       "<Figure size 1440x288 with 6 Axes>"
      ]
     },
     "metadata": {
      "needs_background": "light"
     },
     "output_type": "display_data"
    }
   ],
   "source": [
    "plot_columns = [\"m_Biomass\", \"m_Glucose\", \"m_Glucose_consumed\", \"m_Product\", \"v_Volume\", \"v_Feed_accum\"]\n",
    "\n",
    "fig, axes = plt.subplots(nrows = 1, ncols = len(plot_columns), figsize=(20, 4))\n",
    "for ax, column in zip(axes.ravel(), plot_columns):\n",
    "    ax.plot(fedbatch_df[\"timestamp\"], fedbatch_df[column], label=\"simulation\", color=\"grey\")\n",
    "    ax.scatter(fedbatch_df_measurement[\"timestamp\"], fedbatch_df_measurement[column], label=\"Sample measurement\")\n",
    "    ax.title.set_text(column)\n",
    "    ax.legend()\n",
    "fig.supxlabel(\"Feeding time [h]\")\n",
    "fig.tight_layout()"
   ]
  },
  {
   "attachments": {},
   "cell_type": "markdown",
   "metadata": {},
   "source": [
    "In the simulated data, we clearly see the discrete nature of the product, glucose and biomass mass' and the volume of bioreactor. This is due to sample withdrawal of reactor. This \"continuos\" time series would be available for some quantities, such as Biomass, O2, CO2, and volume, in some cultivation systems, e.g. Robolector or AMBR systems. Glucose and product measurements will typically only be available as the much sparser measurement points. The pseudo batch transformation can handle both online measurements and sample measurements."
   ]
  },
  {
   "attachments": {},
   "cell_type": "markdown",
   "metadata": {},
   "source": [
    "## Applying the pseudo batch transformation"
   ]
  },
  {
   "attachments": {},
   "cell_type": "markdown",
   "metadata": {},
   "source": [
    "Now we can transform the data. Here I will use a convenience wrapper function that can be applied directly to a Pandas DataFrame, but under the hood this just loops over a list of columns and calls the `pseudobatch_transform()` on each of them."
   ]
  },
  {
   "cell_type": "code",
   "execution_count": 9,
   "metadata": {},
   "outputs": [],
   "source": [
    "fedbatch_df_measurement[[\"c_Biomass_pseudo\", \"c_Glucose_pseudo\", \"c_Product_pseudo\", \"c_CO2_pseudo\"]] = pseudobatch_transform_pandas(\n",
    "    fedbatch_df_measurement,\n",
    "    measured_concentration_colnames=[\"c_Biomass\", \"c_Glucose\", \"c_Product\", \"c_CO2\"],\n",
    "    reactor_volume_colname=\"v_Volume\",\n",
    "    accumulated_feed_colname=\"v_Feed_accum\",\n",
    "    sample_volume_colname=\"sample_volume\",\n",
    "    concentration_in_feed=[0, glucose_in_feed, 0, 0],\n",
    ")"
   ]
  },
  {
   "attachments": {},
   "cell_type": "markdown",
   "metadata": {},
   "source": [
    "The pseudo batch transformed data is immediately in the units of \"pseudo concentration\". Since it is a concentration it is numerically smaller that the measured mass'. Thus, if we want to compare the original data with the pseudo batch transformed we can calculate the pseudo mass by multiplying the pseudo concentration with the initial volume of the fed-batch process.\n",
    "\n",
    "The species that are not fed can be compared in mass and pseudo mass values. But for the species which are fed, e.g. glucose, it makes sense to compare the \"consumed\" time series. Therefore, we will now calculate the the consumed pseudo concentration and mass for the substrate (glucose)."
   ]
  },
  {
   "cell_type": "code",
   "execution_count": 10,
   "metadata": {},
   "outputs": [],
   "source": [
    "intial_glucose_concentration = 0\n",
    "fedbatch_df_measurement['c_Glucose_consumed_pseudo'] = intial_glucose_concentration - fedbatch_df_measurement['c_Glucose_pseudo']"
   ]
  },
  {
   "cell_type": "code",
   "execution_count": 11,
   "metadata": {},
   "outputs": [],
   "source": [
    "fedbatch_df_measurement[[\"m_Biomass_pseudo\", \"m_Glucose_consumed_pseudo\", \"m_Product_pseudo\", \"m_CO2_pseudo\"]] = fedbatch_df_measurement[[\"c_Biomass_pseudo\", \"c_Glucose_consumed_pseudo\", \"c_Product_pseudo\", \"c_CO2_pseudo\"]] * fedbatch_df[\"v_Volume\"].iloc[0]"
   ]
  },
  {
   "cell_type": "code",
   "execution_count": 12,
   "metadata": {},
   "outputs": [
    {
     "data": {
      "image/png": "[encoded data removed]",
      "text/plain": [
       "<Figure size 1080x288 with 3 Axes>"
      ]
     },
     "metadata": {
      "needs_background": "light"
     },
     "output_type": "display_data"
    }
   ],
   "source": [
    "plot_columns = [\"m_Biomass\", \"m_Glucose_consumed\", \"m_Product\"]\n",
    "\n",
    "fig, axes = plt.subplots(nrows = 1, ncols = len(plot_columns), figsize=(15, 4))\n",
    "for ax, column in zip(axes.ravel(), plot_columns):\n",
    "    ax.plot(fedbatch_df[\"timestamp\"], fedbatch_df[column], label=\"simulation\", color=\"grey\")\n",
    "    ax.scatter(fedbatch_df_measurement[\"timestamp\"], fedbatch_df_measurement[column], label=\"Sample measurement\")\n",
    "    ax.scatter(fedbatch_df_measurement[\"timestamp\"], fedbatch_df_measurement[column + '_pseudo'], label=\"Pseudo-batch measurement\")\n",
    "    ax.title.set_text(column)\n",
    "    ax.legend()\n",
    "fig.supxlabel(\"Feeding time [h]\")\n",
    "fig.tight_layout()\n"
   ]
  },
  {
   "attachments": {},
   "cell_type": "markdown",
   "metadata": {},
   "source": [
    "## Calculate growth rate"
   ]
  },
  {
   "attachments": {},
   "cell_type": "markdown",
   "metadata": {},
   "source": [
    "Now we are ready to estimate the growth rate. To estimate the growth rate we will use a log-linear model.\n",
    "$$\n",
    "log(C^{\\star}_{Biomass}) = a + \\hat\\mu * t\n",
    "$$\n",
    "where $C^{\\star}_{Biomass}$ is the pseudo batch transformed biomass concentration, and $\\hat\\mu$ is the growth rate estimate. Because we will fit several linear models, we make a small convenience function to simplify the code."
   ]
  },
  {
   "cell_type": "code",
   "execution_count": 13,
   "metadata": {},
   "outputs": [],
   "source": [
    "def fit_ols_model(formula_like: str, data: pd.DataFrame) -> sm.regression.linear_model.RegressionResultsWrapper:\n",
    "    y, X = dmatrices(formula_like, data)\n",
    "    model = sm.OLS(endog=y, exog=X)\n",
    "    res = model.fit()\n",
    "    return res"
   ]
  },
  {
   "attachments": {},
   "cell_type": "markdown",
   "metadata": {},
   "source": [
    "Now we can fit the growth rate for both the transform and raw biomass data."
   ]
  },
  {
   "cell_type": "code",
   "execution_count": 14,
   "metadata": {},
   "outputs": [],
   "source": [
    "res_mu_hat_pseudo = fit_ols_model(\"np.log(m_Biomass_pseudo) ~ timestamp\", fedbatch_df_measurement)\n",
    "res_mu_hat_raw = fit_ols_model(\"np.log(m_Biomass) ~ timestamp\", fedbatch_df_measurement)"
   ]
  },
  {
   "attachments": {},
   "cell_type": "markdown",
   "metadata": {},
   "source": [
    "And visualize the data and the fitted linear models."
   ]
  },
  {
   "cell_type": "code",
   "execution_count": 15,
   "metadata": {},
   "outputs": [
    {
     "data": {
      "image/png": "[encoded data removed]",
      "text/plain": [
       "<Figure size 432x288 with 1 Axes>"
      ]
     },
     "metadata": {
      "needs_background": "light"
     },
     "output_type": "display_data"
    },
    {
     "name": "stdout",
     "output_type": "stream",
     "text": [
      "Fitted growth rate from pseudo batch transformed biomass: 0.10000016643815145\n",
      "Fitted growth rate from raw biomass: 0.06597174185227486\n",
      "True simulated growth rate 0.1000104046529978\n"
     ]
    }
   ],
   "source": [
    "## plot the data and the fitted line\n",
    "plt.scatter(fedbatch_df_measurement['timestamp'], fedbatch_df_measurement['m_Biomass_pseudo'].transform(np.log), label='Pseudo batch transformed', color = \"C1\")\n",
    "plt.scatter(fedbatch_df_measurement['timestamp'], fedbatch_df_measurement['m_Biomass'].transform(np.log), label='Raw data', color = \"C0\")\n",
    "plt.plot(fedbatch_df['timestamp'], fedbatch_df['m_Biomass'].transform(np.log), label='True biomass (simulation)', color='grey')\n",
    "\n",
    "# Drawing linear regression line\n",
    "x_pred = sm.add_constant(fedbatch_df['timestamp']) \n",
    "y_pred_pseudo = res_mu_hat_pseudo.predict(x_pred) \n",
    "y_pred_raw = res_mu_hat_raw.predict(x_pred) \n",
    "plt.plot(fedbatch_df['timestamp'], y_pred_pseudo, color='C1', linestyle = 'dashed', label='Fitted line (pseudo batch)')\n",
    "plt.plot(fedbatch_df['timestamp'], y_pred_raw, color='C0', linestyle = 'dashed', label='Fitted line (raw)')\n",
    "plt.legend()\n",
    "plt.ylabel(\"log(Biomas) [A.U.]\")\n",
    "plt.xlabel(\"Time [h]\")\n",
    "plt.show()\n",
    "\n",
    "print(\"Fitted growth rate from pseudo batch transformed biomass: \" + str(res_mu_hat_pseudo.params[1]))\n",
    "print(\"Fitted growth rate from raw biomass: \" + str(res_mu_hat_raw.params[1]))\n",
    "print(\"True simulated growth rate \" + str(fedbatch_df_measurement[\"mu_true\"].iloc[-1]))"
   ]
  },
  {
   "attachments": {},
   "cell_type": "markdown",
   "metadata": {},
   "source": [
    "We see that the growth rate fitted to the pseudo batch data is very close to the true growth rate. The small difference originates from the fact that the growth rate in the simulation is not truly constant, but changes slightly due to substrate concentration changing slightly. On the other hand the growth rate estimate from the raw measurements in very wrong."
   ]
  },
  {
   "attachments": {},
   "cell_type": "markdown",
   "metadata": {},
   "source": [
    "## Estimating biomass yield coefficients\n",
    "The biomass yield coefficients can also be estimated from the pseudo batch transformed data. Here we will fit a normal linear model to obtain a single overall yield estimate for each species.\n",
    "$$\n",
    "C^{\\star}_{Species} = a + \\hat Y_{xspecies} * t\n",
    "$$\n",
    "\n",
    "Where $C^{\\star}_{Species}$ is the pseudo concetration of a species and the $\\hat Y_{xspecies}$ is the biomass yield coefficient (in units $\\frac{g_{Species}}{g_{Biomass}}$)."
   ]
  },
  {
   "attachments": {},
   "cell_type": "markdown",
   "metadata": {},
   "source": [
    "We will start by estimating the substrate biomass yield coefficient."
   ]
  },
  {
   "cell_type": "code",
   "execution_count": 16,
   "metadata": {},
   "outputs": [
    {
     "name": "stdout",
     "output_type": "stream",
     "text": [
      "Fitted Yxs from raw data: 2.68841\n",
      "Fitted Yxs from pseudo batch transformed data: 1.85\n",
      "True Yxs: 1.85\n"
     ]
    }
   ],
   "source": [
    "res_yxs_noncorrected = fit_ols_model(formula_like = \"m_Glucose_consumed ~ m_Biomass\", data= fedbatch_df_measurement)\n",
    "res_yxs_corrected = fit_ols_model(formula_like = \"m_Glucose_consumed_pseudo ~ m_Biomass_pseudo\", data= fedbatch_df_measurement)\n",
    "\n",
    "print(f\"Fitted Yxs from raw data: {res_yxs_noncorrected.params[1].round(5)}\")\n",
    "print(f\"Fitted Yxs from pseudo batch transformed data: {res_yxs_corrected.params[1].round(5)}\")\n",
    "print(f\"True Yxs: {fedbatch_df.Yxs.iloc[0].round(5)}\")"
   ]
  },
  {
   "attachments": {},
   "cell_type": "markdown",
   "metadata": {},
   "source": [
    "Here we see a large improvement in the estimate from using the pseudo batch transformed data. Now let's move on the product biomass yield coefficient."
   ]
  },
  {
   "cell_type": "code",
   "execution_count": 17,
   "metadata": {},
   "outputs": [
    {
     "name": "stdout",
     "output_type": "stream",
     "text": [
      "Fitted Yxp from raw data: 0.82967\n",
      "Fitted Yxp from pseudo batch transformed data: 0.82151\n",
      "True Yxp: 0.82151\n"
     ]
    }
   ],
   "source": [
    "res_yxp_noncorrected = fit_ols_model(formula_like = \"m_Product ~ m_Biomass\", data= fedbatch_df_measurement)\n",
    "res_yxp_corrected = fit_ols_model(formula_like = \"m_Product_pseudo ~ m_Biomass_pseudo\", data= fedbatch_df_measurement)\n",
    "\n",
    "print(f\"Fitted Yxp from raw data: {res_yxp_noncorrected.params[1].round(5)}\")\n",
    "print(f\"Fitted Yxp from pseudo batch transformed data: {res_yxp_corrected.params[1].round(5)}\")\n",
    "print(f\"True Yxp: {fedbatch_df.Yxp.iloc[0].round(5)}\")"
   ]
  },
  {
   "attachments": {},
   "cell_type": "markdown",
   "metadata": {},
   "source": [
    "Again the estimate based on the pseudo batch transformed data is more accurate that the estimate based on the raw data. In this case the difference the improvement of the estimate with the pseudo batch data is not as significant as for the growth rate and substrate yield coefficient, never the less it is still more accurate."
   ]
  },
  {
   "attachments": {},
   "cell_type": "markdown",
   "metadata": {},
   "source": [
    "It is difficult to make a meaningful plots to compare the yield coefficient estimates, so we will skip that and end the tutorial here. For more advanced usage pseudo batch transformation move on the other example notebooks."
   ]
  },
  {
   "cell_type": "markdown",
   "metadata": {},
   "source": []
  }
 ],
 "metadata": {
  "kernelspec": {
   "display_name": "Python 3.8.5 ('.venv_fedbatch-data-correction': venv)",
   "language": "python",
   "name": "python3"
  },
  "language_info": {
   "codemirror_mode": {
    "name": "ipython",
    "version": 3
   },
   "file_extension": ".py",
   "mimetype": "text/x-python",
   "name": "python",
   "nbconvert_exporter": "python",
   "pygments_lexer": "ipython3",
   "version": "3.8.5"
  },
  "orig_nbformat": 4,
  "vscode": {
   "interpreter": {
    "hash": "0337f5dfa8bf2ee335f62d4679bbb5183dd2c214a8c6ed07ec0592e911fc9b16"
   }
  }
 },
 "nbformat": 4,
 "nbformat_minor": 2
}
